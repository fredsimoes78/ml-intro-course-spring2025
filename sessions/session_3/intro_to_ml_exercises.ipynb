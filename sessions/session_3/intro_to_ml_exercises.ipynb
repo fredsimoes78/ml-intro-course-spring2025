{
  "cells": [
    {
      "cell_type": "markdown",
      "metadata": {
        "id": "50RIPVUdjKiR"
      },
      "source": [
        "# Introduction to Machine Learning and Data Science: Machine Learning basics with Diabetes and Aquatic Toxicity datasets\n",
        "\n",
        "This notebook contains exercises for an introductory course on Machine Learning and Data Science, focusing on a regression and a classification problem with the QSAR Aquatic Toxicity and the Pima Indians Diabetes datasets, respectively.\n",
        "\n",
        "We will cover essential steps in understanding, cleaning, transforming, and analyzing the data using pandas and matplotlib/seaborn. The exercises are divided into basic, intermediate, and advanced levels.\n",
        "\n",
        "**Estimated Time**: 2 Hours\n",
        "\n"
      ]
    },
    {
      "cell_type": "markdown",
      "metadata": {
        "id": "uz1G3RaTsS44"
      },
      "source": [
        "## Setup\n",
        "\n",
        "We already used the Diabetes dataset last week, but here are the names of the columns, since it comes without them:\n",
        "1. Pregnancies\n",
        "2. Glucose\n",
        "3. BloodPressure\n",
        "4. SkinThickness\n",
        "5. Insulin\n",
        "6. BMI\n",
        "7. DiabetesPedigreeFunction\n",
        "8. Age\n",
        "9. Outcome (0 for no diabetes, 1 for diabetes)"
      ]
    },
    {
      "cell_type": "code",
      "execution_count": 13,
      "metadata": {
        "colab": {
          "base_uri": "https://localhost:8080/",
          "height": 206
        },
        "id": "V4r4Cf_ajJ48",
        "outputId": "9de07dbb-2061-43f8-8f5b-dfabb24a6b3f"
      },
      "outputs": [
        {
          "data": {
            "text/html": [
              "<div>\n",
              "<style scoped>\n",
              "    .dataframe tbody tr th:only-of-type {\n",
              "        vertical-align: middle;\n",
              "    }\n",
              "\n",
              "    .dataframe tbody tr th {\n",
              "        vertical-align: top;\n",
              "    }\n",
              "\n",
              "    .dataframe thead th {\n",
              "        text-align: right;\n",
              "    }\n",
              "</style>\n",
              "<table border=\"1\" class=\"dataframe\">\n",
              "  <thead>\n",
              "    <tr style=\"text-align: right;\">\n",
              "      <th></th>\n",
              "      <th>Pregnancies</th>\n",
              "      <th>Glucose</th>\n",
              "      <th>BloodPressure</th>\n",
              "      <th>SkinThickness</th>\n",
              "      <th>Insulin</th>\n",
              "      <th>BMI</th>\n",
              "      <th>DiabetesPedigreeFunction</th>\n",
              "      <th>Age</th>\n",
              "      <th>Outcome</th>\n",
              "    </tr>\n",
              "  </thead>\n",
              "  <tbody>\n",
              "    <tr>\n",
              "      <th>0</th>\n",
              "      <td>6</td>\n",
              "      <td>148</td>\n",
              "      <td>72</td>\n",
              "      <td>35</td>\n",
              "      <td>0</td>\n",
              "      <td>33.6</td>\n",
              "      <td>0.627</td>\n",
              "      <td>50</td>\n",
              "      <td>1</td>\n",
              "    </tr>\n",
              "    <tr>\n",
              "      <th>1</th>\n",
              "      <td>1</td>\n",
              "      <td>85</td>\n",
              "      <td>66</td>\n",
              "      <td>29</td>\n",
              "      <td>0</td>\n",
              "      <td>26.6</td>\n",
              "      <td>0.351</td>\n",
              "      <td>31</td>\n",
              "      <td>0</td>\n",
              "    </tr>\n",
              "    <tr>\n",
              "      <th>2</th>\n",
              "      <td>8</td>\n",
              "      <td>183</td>\n",
              "      <td>64</td>\n",
              "      <td>0</td>\n",
              "      <td>0</td>\n",
              "      <td>23.3</td>\n",
              "      <td>0.672</td>\n",
              "      <td>32</td>\n",
              "      <td>1</td>\n",
              "    </tr>\n",
              "    <tr>\n",
              "      <th>3</th>\n",
              "      <td>1</td>\n",
              "      <td>89</td>\n",
              "      <td>66</td>\n",
              "      <td>23</td>\n",
              "      <td>94</td>\n",
              "      <td>28.1</td>\n",
              "      <td>0.167</td>\n",
              "      <td>21</td>\n",
              "      <td>0</td>\n",
              "    </tr>\n",
              "    <tr>\n",
              "      <th>4</th>\n",
              "      <td>0</td>\n",
              "      <td>137</td>\n",
              "      <td>40</td>\n",
              "      <td>35</td>\n",
              "      <td>168</td>\n",
              "      <td>43.1</td>\n",
              "      <td>2.288</td>\n",
              "      <td>33</td>\n",
              "      <td>1</td>\n",
              "    </tr>\n",
              "  </tbody>\n",
              "</table>\n",
              "</div>"
            ],
            "text/plain": [
              "   Pregnancies  Glucose  BloodPressure  SkinThickness  Insulin   BMI  \\\n",
              "0            6      148             72             35        0  33.6   \n",
              "1            1       85             66             29        0  26.6   \n",
              "2            8      183             64              0        0  23.3   \n",
              "3            1       89             66             23       94  28.1   \n",
              "4            0      137             40             35      168  43.1   \n",
              "\n",
              "   DiabetesPedigreeFunction  Age  Outcome  \n",
              "0                     0.627   50        1  \n",
              "1                     0.351   31        0  \n",
              "2                     0.672   32        1  \n",
              "3                     0.167   21        0  \n",
              "4                     2.288   33        1  "
            ]
          },
          "execution_count": 13,
          "metadata": {},
          "output_type": "execute_result"
        }
      ],
      "source": [
        "import pandas as pd\n",
        "import matplotlib.pyplot as plt\n",
        "import numpy as np\n",
        "import seaborn as sns\n",
        "\n",
        "# URL for the Pima Indians Diabetes dataset\n",
        "url_classification = \"https://raw.githubusercontent.com/jbrownlee/Datasets/master/pima-indians-diabetes.data.csv\"\n",
        "names_classification = ['Pregnancies', 'Glucose', 'BloodPressure', 'SkinThickness', 'Insulin', 'BMI', 'DiabetesPedigreeFunction', 'Age', 'Outcome']\n",
        "\n",
        "# Load the dataset\n",
        "diabetes_df = pd.read_csv(url_classification, names=names_classification)\n",
        "\n",
        "# Display the first few rows to confirm loading\n",
        "diabetes_df.head()\n"
      ]
    },
    {
      "cell_type": "markdown",
      "metadata": {
        "id": "xyfJfQxKsv9I"
      },
      "source": [
        "For the regression dataset, we will use the QSAR Aquatic Toxicity dataset, which was used to develop a quantitative structure-activity relationship models to predict aquatic toxicity towards the fish Pimephales promelas (fathead minnow). LC50, which is the concentration that causes death in 50% of test Daphnia Magma over a test duration of 48 hours, is the target."
      ]
    },
    {
      "cell_type": "code",
      "execution_count": 5,
      "metadata": {
        "colab": {
          "base_uri": "https://localhost:8080/",
          "height": 206
        },
        "id": "Z_Unqw_VpZ1m",
        "outputId": "4cb85a39-5853-4b3a-e127-10945b965a3f"
      },
      "outputs": [
        {
          "data": {
            "text/html": [
              "<div>\n",
              "<style scoped>\n",
              "    .dataframe tbody tr th:only-of-type {\n",
              "        vertical-align: middle;\n",
              "    }\n",
              "\n",
              "    .dataframe tbody tr th {\n",
              "        vertical-align: top;\n",
              "    }\n",
              "\n",
              "    .dataframe thead th {\n",
              "        text-align: right;\n",
              "    }\n",
              "</style>\n",
              "<table border=\"1\" class=\"dataframe\">\n",
              "  <thead>\n",
              "    <tr style=\"text-align: right;\">\n",
              "      <th></th>\n",
              "      <th>Id</th>\n",
              "      <th>TPSA(Tot)</th>\n",
              "      <th>SAacc</th>\n",
              "      <th>H-050</th>\n",
              "      <th>MLOGP</th>\n",
              "      <th>RDCHI</th>\n",
              "      <th>GATS1p</th>\n",
              "      <th>nN</th>\n",
              "      <th>C-040</th>\n",
              "      <th>LC50</th>\n",
              "    </tr>\n",
              "  </thead>\n",
              "  <tbody>\n",
              "    <tr>\n",
              "      <th>0</th>\n",
              "      <td>0</td>\n",
              "      <td>0.00</td>\n",
              "      <td>0.0</td>\n",
              "      <td>0</td>\n",
              "      <td>2.419</td>\n",
              "      <td>1.225</td>\n",
              "      <td>0.667</td>\n",
              "      <td>0</td>\n",
              "      <td>0</td>\n",
              "      <td>3.740</td>\n",
              "    </tr>\n",
              "    <tr>\n",
              "      <th>1</th>\n",
              "      <td>1</td>\n",
              "      <td>0.00</td>\n",
              "      <td>0.0</td>\n",
              "      <td>0</td>\n",
              "      <td>2.638</td>\n",
              "      <td>1.401</td>\n",
              "      <td>0.632</td>\n",
              "      <td>0</td>\n",
              "      <td>0</td>\n",
              "      <td>4.330</td>\n",
              "    </tr>\n",
              "    <tr>\n",
              "      <th>2</th>\n",
              "      <td>2</td>\n",
              "      <td>9.23</td>\n",
              "      <td>11.0</td>\n",
              "      <td>0</td>\n",
              "      <td>5.799</td>\n",
              "      <td>2.930</td>\n",
              "      <td>0.486</td>\n",
              "      <td>0</td>\n",
              "      <td>0</td>\n",
              "      <td>7.019</td>\n",
              "    </tr>\n",
              "    <tr>\n",
              "      <th>3</th>\n",
              "      <td>3</td>\n",
              "      <td>9.23</td>\n",
              "      <td>11.0</td>\n",
              "      <td>0</td>\n",
              "      <td>5.453</td>\n",
              "      <td>2.887</td>\n",
              "      <td>0.495</td>\n",
              "      <td>0</td>\n",
              "      <td>0</td>\n",
              "      <td>6.723</td>\n",
              "    </tr>\n",
              "    <tr>\n",
              "      <th>4</th>\n",
              "      <td>4</td>\n",
              "      <td>9.23</td>\n",
              "      <td>11.0</td>\n",
              "      <td>0</td>\n",
              "      <td>4.068</td>\n",
              "      <td>2.758</td>\n",
              "      <td>0.695</td>\n",
              "      <td>0</td>\n",
              "      <td>0</td>\n",
              "      <td>5.979</td>\n",
              "    </tr>\n",
              "  </tbody>\n",
              "</table>\n",
              "</div>"
            ],
            "text/plain": [
              "   Id  TPSA(Tot)  SAacc  H-050  MLOGP  RDCHI  GATS1p  nN  C-040   LC50\n",
              "0   0       0.00    0.0      0  2.419  1.225   0.667   0      0  3.740\n",
              "1   1       0.00    0.0      0  2.638  1.401   0.632   0      0  4.330\n",
              "2   2       9.23   11.0      0  5.799  2.930   0.486   0      0  7.019\n",
              "3   3       9.23   11.0      0  5.453  2.887   0.495   0      0  6.723\n",
              "4   4       9.23   11.0      0  4.068  2.758   0.695   0      0  5.979"
            ]
          },
          "execution_count": 5,
          "metadata": {},
          "output_type": "execute_result"
        }
      ],
      "source": [
        "url_regression = \"https://raw.githubusercontent.com/readytensor/rt-datasets-regression/refs/heads/main/datasets/processed/aquatic_toxicity/aquatic_toxicity.csv\"\n",
        "\n",
        "aquatic_toxicity_df = pd.read_csv(url_regression)\n",
        "aquatic_toxicity_df.head()"
      ]
    },
    {
      "cell_type": "markdown",
      "metadata": {
        "id": "V7ZeOg0qtktL"
      },
      "source": [
        "## Basic Exercisess (Approx. 45-60 minutes)\n",
        "\n",
        "These exercises focus on the most basic fundamentals of the machine learning pipeline."
      ]
    },
    {
      "cell_type": "markdown",
      "metadata": {
        "id": "GY7vpyDatw5m"
      },
      "source": [
        "### Exercise 1: Splitting the Data\n",
        "\n",
        "1. Separate features (`X`) and target (`y`).\n",
        "2. Perform the data splitting with the `sklearn.model_selection.train_test_split`. Get the training, validation and test sets with a 60/20/20  split. **Only for classification dataset**: perform the splitting with the `stratify` option set to yes. It attempts to keep the percentages of the classes in the different sets.\n",
        "3. Print the shape of both sets, to see how many attributes and samples there are in each."
      ]
    },
    {
      "cell_type": "code",
      "execution_count": 6,
      "metadata": {
        "id": "DnXgMp_4uy-e"
      },
      "outputs": [],
      "source": [
        "# Your code for Exercise 1.1\n",
        "\n",
        "y_dia = diabetes_df[\"Outcome\"]\n",
        "X_dia = diabetes_df.drop(\"Outcome\", axis=1)\n",
        "\n",
        "y_tox = aquatic_toxicity_df[\"LC50\"]\n",
        "X_tox = aquatic_toxicity_df.drop(\"LC50\", axis=1)\n"
      ]
    },
    {
      "cell_type": "code",
      "execution_count": 7,
      "metadata": {
        "id": "lc5GDjcuuzYd"
      },
      "outputs": [],
      "source": [
        "# Your code for Exercise 1.2\n",
        "\n",
        "from sklearn.model_selection import train_test_split\n",
        "\n",
        "#Diabetes\n",
        "X_temp_dia, X_test_dia, y_temp_dia, y_test_dia = train_test_split(X_dia, y_dia, test_size=0.2, random_state=42, stratify=y_dia)\n",
        "X_train_dia, X_val_dia, y_train_dia, y_val_dia = train_test_split(X_temp_dia, y_temp_dia, test_size=0.25, random_state=42, stratify=y_temp_dia)\n",
        "\n",
        "#Toxicity\n",
        "X_temp_tox, X_test_tox, y_temp_tox, y_test_tox = train_test_split(X_tox, y_tox, test_size=0.2, random_state=42)\n",
        "X_train_tox, X_val_tox, y_train_tox, y_val_tox = train_test_split(X_temp_tox, y_temp_tox, test_size=0.25, random_state=42)\n"
      ]
    },
    {
      "cell_type": "code",
      "execution_count": 11,
      "metadata": {
        "id": "FLDC-OltuzOs"
      },
      "outputs": [
        {
          "name": "stdout",
          "output_type": "stream",
          "text": [
            "There are 460 training instances, 154 validation and 154 test set for diabetes\n",
            "There are 327 training instances, 109 validation and 110 test set for diabetes\n"
          ]
        }
      ],
      "source": [
        "# Your code for Exercise 1.3\n",
        "\n",
        "print(f\"There are {len(X_train_dia)} training instances, {len(X_val_dia)} validation and {len(X_test_dia)} test set for diabetes\")\n",
        "print(f\"There are {len(X_train_tox)} training instances, {len(X_val_tox)} validation and {len(X_test_tox)} test set for diabetes\")\n"
      ]
    },
    {
      "cell_type": "markdown",
      "metadata": {
        "id": "2PwZ5Exhu5D9"
      },
      "source": [
        "### Exercise 2: Training your first models\n",
        "1. Train `LinearRegression` on the regression dataset (Aquatic Toxicity).\n",
        "2. Train `LogisticRegression` on the classification dataset (Diabetes).\n",
        "3. Predict on the test set for each.\n",
        "4. Print first 5 predictions."
      ]
    },
    {
      "cell_type": "code",
      "execution_count": null,
      "metadata": {
        "id": "dajZyVpIvXl-"
      },
      "outputs": [],
      "source": [
        "# Your code for Exercise 2.1"
      ]
    },
    {
      "cell_type": "code",
      "execution_count": null,
      "metadata": {
        "id": "h2v1HHCHvXf0"
      },
      "outputs": [],
      "source": [
        "# Your code for Exercise 2.2"
      ]
    },
    {
      "cell_type": "code",
      "execution_count": null,
      "metadata": {
        "id": "wuPr4ocMvXZe"
      },
      "outputs": [],
      "source": [
        "# Your code for Exercise 2.3"
      ]
    },
    {
      "cell_type": "code",
      "execution_count": null,
      "metadata": {
        "id": "yhdfsGICvXSu"
      },
      "outputs": [],
      "source": [
        "# Your code for Exercise 2.4"
      ]
    },
    {
      "cell_type": "markdown",
      "metadata": {
        "id": "d4QGUlzBvdlE"
      },
      "source": [
        "### Exercise 3: Evaluate your models\n",
        "1. For regression, use the following metrics to check how good your predictions were: `mean_squared_error`, `r2_score`.\n",
        "2. Do the same for classification for these: `accuracy_score`, `confusion_matrix`\n",
        "3. Interpret: Are predictions close? For classification, is there a clear tendency in the model (too many false positives, false negatives, etc.)?"
      ]
    },
    {
      "cell_type": "code",
      "execution_count": null,
      "metadata": {
        "id": "fJ7dOsgAwPc7"
      },
      "outputs": [],
      "source": [
        "# Your code for Exercise 3.1"
      ]
    },
    {
      "cell_type": "code",
      "execution_count": null,
      "metadata": {
        "id": "DF9_0UuWwPWj"
      },
      "outputs": [],
      "source": [
        "# Your code for Exercise 3.2"
      ]
    },
    {
      "cell_type": "markdown",
      "metadata": {
        "id": "YPqWkvzP7fI5"
      },
      "source": [
        "## Intermediate Exercises (Approx. 45-60 minutes)\n",
        "\n",
        "These exercises focus on comparing the performance of multiple models, performing cross-validation and using visualization techniques to understand better the results."
      ]
    },
    {
      "cell_type": "markdown",
      "metadata": {
        "id": "F410JdwL7zQ4"
      },
      "source": [
        "### Exercise 4: Compare multiple models\n",
        "1. For the regression problem: Train and compare `LinearRegression`(already done), `DecisionTreeRegressor`, and `KNeighborsRegressor`.\n",
        "2. For the classification problem: Train and compare `LogisticRegression` (already done), `KNeighborsClassifier`, and `DecisionTreeClassifier`.\n",
        "3. Evaluate using R² score and accuracy each, respectively.\n",
        "4. Which model performs best in each case? Why do you think that might be? Try to understand how the models work. Here is the documentation for each of them:\n",
        "  - [LinearRegression](https://scikit-learn.org/stable/modules/generated/sklearn.linear_model.LinearRegression.html)\n",
        "  - [DecisionTreeRegressor](https://scikit-learn.org/stable/modules/generated/sklearn.tree.DecisionTreeRegressor.html)\n",
        "  - [KNeighborRegressor](https://scikit-learn.org/stable/modules/generated/sklearn.neighbors.KNeighborsRegressor.html)\n",
        "  - [LogisticRegression](https://scikit-learn.org/stable/modules/generated/sklearn.linear_model.LogisticRegression.html)\n",
        "  - [KNeighborsClassifier](https://scikit-learn.org/stable/modules/generated/sklearn.neighbors.KNeighborsClassifier.html)\n",
        "  - [DecisionTreeClassifier](https://scikit-learn.org/stable/modules/generated/sklearn.tree.DecisionTreeClassifier.html)"
      ]
    },
    {
      "cell_type": "code",
      "execution_count": null,
      "metadata": {
        "id": "XHpZqm3295ew"
      },
      "outputs": [],
      "source": [
        "# Your code for Exercise 4.1"
      ]
    },
    {
      "cell_type": "code",
      "execution_count": null,
      "metadata": {
        "id": "j7ciu4Z29-ro"
      },
      "outputs": [],
      "source": [
        "# Your code for Exercise 4.2"
      ]
    },
    {
      "cell_type": "code",
      "execution_count": null,
      "metadata": {
        "id": "ZjEfS8yp9_N3"
      },
      "outputs": [],
      "source": [
        "# Your code for Exercise 4.3"
      ]
    },
    {
      "cell_type": "markdown",
      "metadata": {
        "id": "IEOs9Ekm-EBH"
      },
      "source": [
        "### Exercise 5: Cross-validation\n",
        "1. Use `cross_val_score` for the best model in each case, with `cv=5`.\n",
        "2. For classification, try both `accuracy` and `f1` as scoring methods, to compare the trainings in the cross-validation.\n",
        "3. For the regression, use both `r2` and `neg_mean_squared_error`.\n",
        "4. Print mean + std of the scores."
      ]
    },
    {
      "cell_type": "code",
      "execution_count": null,
      "metadata": {
        "id": "KnX2nISp-CG_"
      },
      "outputs": [],
      "source": [
        "# Your code for Exercise 5.1 and 5.2"
      ]
    },
    {
      "cell_type": "code",
      "execution_count": null,
      "metadata": {
        "id": "Djq-hzew-9w5"
      },
      "outputs": [],
      "source": [
        "# Your code for Exercise 5.1 and 5.3"
      ]
    },
    {
      "cell_type": "code",
      "execution_count": null,
      "metadata": {
        "id": "O6D0TJhm_Ax4"
      },
      "outputs": [],
      "source": [
        "# Your code for Exercise 5.4"
      ]
    },
    {
      "cell_type": "markdown",
      "metadata": {
        "id": "cjgGFfSu_Dhf"
      },
      "source": [
        "### Exercise 6: Classification report and visualization\n",
        "\n",
        "1. Use the `classification_report` function for the classification problem ([link](https://scikit-learn.org/stable/modules/generated/sklearn.metrics.classification_report.html) to documentation)\n",
        "2. Calculate the confusion matrix and plot it using `ConfusionMatrixDisplay`."
      ]
    },
    {
      "cell_type": "code",
      "execution_count": null,
      "metadata": {
        "id": "iOiej3OiAoqA"
      },
      "outputs": [],
      "source": [
        "# Your code for Exercise 6.1"
      ]
    },
    {
      "cell_type": "code",
      "execution_count": null,
      "metadata": {
        "id": "vFaNPdewAo8I"
      },
      "outputs": [],
      "source": [
        "# Your code for Exercise 6.2"
      ]
    },
    {
      "cell_type": "markdown",
      "metadata": {
        "id": "Ve2uIRs8A2oA"
      },
      "source": [
        "## Advanced Exercises (Approx. 45-60 min)\n",
        "\n",
        "These exercises explore hyperparameter tuning methods and final model evaluation.\n",
        "\n"
      ]
    },
    {
      "cell_type": "markdown",
      "metadata": {
        "id": "yZk_Uxs-CLjQ"
      },
      "source": [
        "### Exercise 7: Hyperparameter tuning using Grid Search\n",
        "\n",
        "1. Use `GridSearchCV` with `LogisticRegression`. Try this grid: `C=[0.01, 0.1, 1, 10]`, `penalty=['l1', 'l2']`, `solver='liblinear'`.\n",
        "2. You can also run a cross validation with this function. Try a `cv=5`.\n",
        "3. Print what the best parameters and score were.\n",
        "\n",
        "`GridSearchCV` documentation: [here](https://scikit-learn.org/stable/modules/generated/sklearn.model_selection.GridSearchCV.html)."
      ]
    },
    {
      "cell_type": "code",
      "execution_count": null,
      "metadata": {
        "id": "oTvYTw2oC_Zu"
      },
      "outputs": [],
      "source": [
        "# Your code for Exercise 7.1"
      ]
    },
    {
      "cell_type": "code",
      "execution_count": null,
      "metadata": {
        "id": "kCOL6HixC_qX"
      },
      "outputs": [],
      "source": [
        "# Your code for Exercise 7.2"
      ]
    },
    {
      "cell_type": "code",
      "execution_count": null,
      "metadata": {
        "id": "2tVtJXWOC_1g"
      },
      "outputs": [],
      "source": [
        "# Your code for Exercise 7.3"
      ]
    },
    {
      "cell_type": "markdown",
      "metadata": {
        "id": "vouLijNSDG-n"
      },
      "source": [
        "### Exercise 8: Hyperparameter tuning using Random Search\n",
        "\n",
        "1. Use `RandomizedSearchCV` on the [`Ridge`](https://scikit-learn.org/stable/modules/generated/sklearn.linear_model.Ridge.html) model (for regression). Sample only one parameter: `alpha` from `scipy.stats.uniform(0.01, 10)`.\n",
        "2. Limit the random search to only 10 iterations.\n",
        "3. Print the best alpha and score."
      ]
    },
    {
      "cell_type": "code",
      "execution_count": null,
      "metadata": {
        "id": "5W0ohNRPERsr"
      },
      "outputs": [],
      "source": [
        "# Your code for Exercise 8.1"
      ]
    },
    {
      "cell_type": "code",
      "execution_count": null,
      "metadata": {
        "id": "OaxOz-_dESHY"
      },
      "outputs": [],
      "source": [
        "# Your code for Exercise 8.2"
      ]
    },
    {
      "cell_type": "code",
      "execution_count": null,
      "metadata": {
        "id": "HmklLHX7ER5b"
      },
      "outputs": [],
      "source": [
        "# Your code for Exercise 8.3"
      ]
    },
    {
      "cell_type": "markdown",
      "metadata": {
        "id": "-jrGgn8oESsb"
      },
      "source": [
        "### Exercise 9: Final model & test evaluation\n",
        "\n",
        "1. Take the best model from Grid/Random search\n",
        "2. Predict on test set\n",
        "3. Print final metrics\n"
      ]
    },
    {
      "cell_type": "code",
      "execution_count": null,
      "metadata": {
        "id": "V8W2kmSVE1iM"
      },
      "outputs": [],
      "source": [
        "# Your code for Exercise 9.1"
      ]
    },
    {
      "cell_type": "code",
      "execution_count": null,
      "metadata": {
        "id": "l_hWHysLE1zo"
      },
      "outputs": [],
      "source": [
        "# Your code for Exercise 9.2"
      ]
    },
    {
      "cell_type": "code",
      "execution_count": null,
      "metadata": {
        "id": "kjxZa6i2E2CC"
      },
      "outputs": [],
      "source": [
        "# Your code for Exercise 9.3"
      ]
    }
  ],
  "metadata": {
    "colab": {
      "provenance": []
    },
    "kernelspec": {
      "display_name": "env",
      "language": "python",
      "name": "python3"
    },
    "language_info": {
      "codemirror_mode": {
        "name": "ipython",
        "version": 3
      },
      "file_extension": ".py",
      "mimetype": "text/x-python",
      "name": "python",
      "nbconvert_exporter": "python",
      "pygments_lexer": "ipython3",
      "version": "3.12.9"
    }
  },
  "nbformat": 4,
  "nbformat_minor": 0
}
