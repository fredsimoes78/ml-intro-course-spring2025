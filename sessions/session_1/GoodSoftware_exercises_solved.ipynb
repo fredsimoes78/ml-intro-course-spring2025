{
  "nbformat": 4,
  "nbformat_minor": 0,
  "metadata": {
    "colab": {
      "provenance": []
    },
    "kernelspec": {
      "name": "python3",
      "display_name": "Python 3"
    },
    "language_info": {
      "name": "python"
    }
  },
  "cells": [
    {
      "cell_type": "markdown",
      "source": [],
      "metadata": {
        "id": "sOpJ1RpEluIJ"
      }
    },
    {
      "cell_type": "markdown",
      "source": [
        "## Coding Style"
      ],
      "metadata": {
        "id": "trbyQ1fulwCl"
      }
    },
    {
      "cell_type": "markdown",
      "source": [
        "**Task:** Refactor the following function to improve readability by using better variable names. This function calculates the mean of a list of numbers."
      ],
      "metadata": {
        "id": "1j6mgPpS3jOj"
      }
    },
    {
      "cell_type": "code",
      "source": [
        "def calc_mean(vals):\n",
        "    s = 0\n",
        "    for v in vals:\n",
        "        s += v\n",
        "    return s / len(vals)"
      ],
      "metadata": {
        "id": "7O1AlCiO345V"
      },
      "execution_count": null,
      "outputs": []
    },
    {
      "cell_type": "code",
      "source": [
        "#Your solution here...\n",
        "\n",
        "def calculate_mean(values):\n",
        "    total_sum = 0\n",
        "    for value in values:\n",
        "        total_sum += value\n",
        "    return total_sum / len(values"
      ],
      "metadata": {
        "id": "Zmf8qVfI37Dn"
      },
      "execution_count": null,
      "outputs": []
    },
    {
      "cell_type": "code",
      "source": [
        "# Try again, now using the function reduce and len\n",
        "# if values = [1, 2, 3]\n",
        "# len(values) = 3\n",
        "\n",
        "\n",
        "from functools import reduce\n",
        "\n",
        "def calculate_mean(values):\n",
        "    return reduce(lambda x, y: x + y, values) / len(values)"
      ],
      "metadata": {
        "id": "O7lr74ps5LAT"
      },
      "execution_count": null,
      "outputs": []
    },
    {
      "cell_type": "markdown",
      "source": [
        "You are given a function **process_user_data** that processes user data. The function is well-written with type hints and clean code, but the naming conventions are inconsistent and not descriptive enough. Your task is to refactor the function to improve the naming conventions."
      ],
      "metadata": {
        "id": "PiMyTEfW9Py2"
      }
    },
    {
      "cell_type": "markdown",
      "source": [
        "**Original function**"
      ],
      "metadata": {
        "id": "yWv2hYu29atW"
      }
    },
    {
      "cell_type": "code",
      "source": [
        "from typing import List, Dict\n",
        "\n",
        "def process_user_data(user_data: List[Dict[str, str]]) -> List[Dict[str, str]]:\n",
        "    \"\"\"\n",
        "    Process user data by extracting relevant information.\n",
        "\n",
        "    Args:\n",
        "        user_data (List[Dict[str, str]]): A list of dictionaries containing user data.\n",
        "\n",
        "    Returns:\n",
        "        List[Dict[str, str]]: A list of dictionaries containing processed user data.\n",
        "    \"\"\"\n",
        "    processed_data = []\n",
        "\n",
        "    for user in user_data:\n",
        "        cust_name = user.get('customer_name')\n",
        "        cl_age = user.get('client_age')\n",
        "        usr_email = user.get('user_email')\n",
        "\n",
        "        if cust_name and cl_age and usr_email:\n",
        "            processed_data.append({\n",
        "                'name': cust_name,\n",
        "                'age': cl_age,\n",
        "                'email': usr_email\n",
        "            })\n",
        "\n",
        "    return processed_data"
      ],
      "metadata": {
        "id": "VLT1u9679T9X"
      },
      "execution_count": null,
      "outputs": []
    },
    {
      "cell_type": "markdown",
      "source": [
        "## Testing"
      ],
      "metadata": {
        "id": "a4ZD-gIg9xge"
      }
    },
    {
      "cell_type": "markdown",
      "source": [
        "Write a unit test for the **calculate_mean** function from the previous exercise."
      ],
      "metadata": {
        "id": "qqXEZYIq9zVN"
      }
    },
    {
      "cell_type": "code",
      "source": [
        "def calculate_mean(values):\n",
        "    total_sum = 0\n",
        "    for value in values:\n",
        "        total_sum += value\n",
        "    return total_sum / len(values)"
      ],
      "metadata": {
        "id": "gkFNyNRu98Hq"
      },
      "execution_count": null,
      "outputs": []
    },
    {
      "cell_type": "code",
      "source": [
        "import unittest\n",
        "\n",
        "# class TestCalculateMean(unittest.TestCase):\n",
        "    #def test_calculate_mean(self):\n",
        "        #self.assertEqual\n",
        "\n",
        "class TestCalculateMean(unittest.TestCase):\n",
        "    def test_calculate_mean(self):\n",
        "        values = [1, 2, 3, 4, 5]\n",
        "        expected_mean = 3.0\n",
        "        self.assertEqual\n",
        "\n",
        "if __name__ == '__main__':\n",
        "  unittest.main(argv=['first-arg-is-ignored'], verbosity=1, exit=False)"
      ],
      "metadata": {
        "colab": {
          "base_uri": "https://localhost:8080/"
        },
        "id": "9GXTNdeP92j9",
        "outputId": "4098d54f-d8d8-4306-9778-7a8fa5502f9f"
      },
      "execution_count": 2,
      "outputs": [
        {
          "output_type": "stream",
          "name": "stderr",
          "text": [
            ".\n",
            "----------------------------------------------------------------------\n",
            "Ran 1 test in 0.001s\n",
            "\n",
            "OK\n"
          ]
        }
      ]
    },
    {
      "cell_type": "markdown",
      "source": [
        "## Docstring"
      ],
      "metadata": {
        "id": "9GOMoeTi62JX"
      }
    },
    {
      "cell_type": "markdown",
      "source": [
        "Add a docstring to the **calculate_feature_sum** function.\n",
        "\n",
        "```python\n",
        "def calculate_feature_sum(feature_values):\n",
        "    total_sum = 0\n",
        "    for value in feature_values:\n",
        "        total_sum += value\n",
        "    return total_sum\n",
        "```\n",
        "\n"
      ],
      "metadata": {
        "id": "f5n47syC646T"
      }
    },
    {
      "cell_type": "code",
      "source": [
        "\n",
        "def calculate_feature_sum(feature_values):\n",
        "    \"\"\"Calculates the sum of feature values in a list.\n",
        "\n",
        "    Args:\n",
        "        feature_values (list): A list of numerical feature values.\n",
        "\n",
        "    Returns:\n",
        "        int or float: The sum of the feature values.\n",
        "    \"\"\"\n",
        "    total_sum = 0\n",
        "    for value in feature_values:\n",
        "        total_sum += value\n",
        "    return total_sum"
      ],
      "metadata": {
        "id": "ickHP8Gl_23S"
      },
      "execution_count": 3,
      "outputs": []
    },
    {
      "cell_type": "markdown",
      "source": [
        "Add a docstring to the **LinearRegression** class and its methods.\n",
        "\n",
        "```python\n",
        "class LinearRegression:\n",
        "    def __init__(self, learning_rate, num_iterations):\n",
        "        self.learning_rate = learning_rate\n",
        "        self.num_iterations = num_iterations\n",
        "        self.weights = None\n",
        "        self.bias = None\n",
        "\n",
        "    def fit(self, features, targets):\n",
        "        num_samples, num_features = features.shape\n",
        "        self.weights = np.zeros(num_features)\n",
        "        self.bias = 0\n",
        "        for _ in range(self.num_iterations):\n",
        "            predicted_values = np.dot(features, self.weights) + self.bias\n",
        "            weight_gradient = (1 / num_samples) * np.dot(features.T, (predicted_values - targets))\n",
        "            bias_gradient = (1 / num_samples) * np.sum(predicted_values - targets)\n",
        "            self.weights -= self.learning_rate * weight_gradient\n",
        "            self.bias -= self.learning_rate * bias_gradient\n",
        "\n",
        "```\n",
        "\n"
      ],
      "metadata": {
        "id": "Peyy36CJ6d1l"
      }
    },
    {
      "cell_type": "code",
      "source": [
        "import numpy as np\n",
        "\n",
        "class LinearRegression:\n",
        "    \"\"\"\n",
        "    A simple Linear Regression model implementation using Gradient Descent.\n",
        "    \"\"\"\n",
        "    def __init__(self, learning_rate, num_iterations):\n",
        "        \"\"\"\n",
        "        Initializes the Linear Regression model.\n",
        "\n",
        "        Args:\n",
        "            learning_rate (float): The learning rate for gradient descent.\n",
        "            num_iterations (int): The number of iterations for gradient descent.\n",
        "        \"\"\"\n",
        "        self.learning_rate = learning_rate\n",
        "        self.num_iterations = num_iterations\n",
        "        self.weights = None\n",
        "        self.bias = None\n",
        "\n",
        "    def fit(self, features, targets):\n",
        "        \"\"\"\n",
        "        Trains the Linear Regression model using the provided features and targets.\n",
        "\n",
        "        Args:\n",
        "            features (np.ndarray): The input feature data.\n",
        "            targets (np.ndarray): The target values.\n",
        "        \"\"\"\n",
        "        num_samples, num_features = features.shape\n",
        "        self.weights = np.zeros(num_features)\n",
        "        self.bias = 0\n",
        "\n",
        "        for _ in range(self.num_iterations):\n",
        "            predicted_values = np.dot(features, self.weights) + self.bias\n",
        "            weight_gradient = (1 / num_samples) * np.dot(features.T, (predicted_values - targets))\n",
        "            bias_gradient = (1 / num_samples) * np.sum(predicted_values - targets)\n",
        "\n",
        "            self.weights -= self.learning_rate * weight_gradient\n",
        "            self.bias -= self.learning_rate * bias_gradient"
      ],
      "metadata": {
        "id": "sSlWod_JADd7"
      },
      "execution_count": null,
      "outputs": []
    },
    {
      "cell_type": "markdown",
      "source": [
        "## Keep It Simple"
      ],
      "metadata": {
        "id": "XGJdHYUO8Flj"
      }
    },
    {
      "cell_type": "markdown",
      "source": [
        "You are given a function **process_data** that performs several tasks: loading data, cleaning data, and calculating statistics. Your task is to refactor this function into separate, well-named methods to improve readability and maintainability.\n",
        "\n",
        "**Original function**"
      ],
      "metadata": {
        "id": "BAltedlh8L7D"
      }
    },
    {
      "cell_type": "code",
      "source": [
        "import numpy as np\n",
        "from typing import List, Tuple\n",
        "\n",
        "def process_data(file_path: str) -> Tuple[float, float]:\n",
        "    # Load data from a file\n",
        "    data = np.loadtxt(file_path, delimiter=',')\n",
        "\n",
        "    # Clean data by removing negative values\n",
        "    cleaned_data = [x for x in data if x >= 0]\n",
        "\n",
        "    # Calculate mean and standard deviation\n",
        "    mean_value = np.mean(cleaned_data)\n",
        "    std_dev_value = np.std(cleaned_data)\n",
        "\n",
        "    return mean_value, std_dev_value"
      ],
      "metadata": {
        "id": "KpxgiH5J8JXX"
      },
      "execution_count": 4,
      "outputs": []
    },
    {
      "cell_type": "code",
      "source": [
        "# prompt: refactor with good practices:\n",
        "# import numpy as np\n",
        "# from typing import List, Tuple\n",
        "# def process_data(file_path: str) -> Tuple[float, float]:\n",
        "#     # Load data from a file\n",
        "#     data = np.loadtxt(file_path, delimiter=',')\n",
        "#     # Clean data by removing negative values\n",
        "#     cleaned_data = [x for x in data if x >= 0]\n",
        "#     # Calculate mean and standard deviation\n",
        "#     mean_value = np.mean(cleaned_data)\n",
        "#     std_dev_value = np.std(cleaned_data)\n",
        "#     return mean_value, std_dev_value\n",
        "\n",
        "import numpy as np\n",
        "class DataProcessor:\n",
        "  \"\"\"\n",
        "    A class to process data from a file, clean it, and calculate statistics.\n",
        "  \"\"\"\n",
        "  def __init__(self, file_path: str):\n",
        "    self.file_path = file_path\n",
        "    self.raw_data = None\n",
        "    self.cleaned_data = None\n",
        "\n",
        "  def load_data(self):\n",
        "    \"\"\"\n",
        "        Loads data from the specified file path.\n",
        "    \"\"\"\n",
        "    try:\n",
        "      self.raw_data = np.loadtxt(self.file_path, delimiter=',')\n",
        "    except FileNotFoundError:\n",
        "      print(f\"Error: File not found at {self.file_path}\")\n",
        "      self.raw_data = np.array([]) # Initialize with an empty array\n",
        "\n",
        "  def clean_data(self):\n",
        "    \"\"\"\n",
        "        Removes negative values from the loaded data.\n",
        "    \"\"\"\n",
        "    if self.raw_data is not None:\n",
        "      self.cleaned_data = [x for x in self.raw_data if x >= 0]\n",
        "    else:\n",
        "      self.cleaned_data = []\n",
        "\n",
        "  def calculate_statistics(self) -> Tuple[float, float]:\n",
        "    \"\"\"\n",
        "        Calculates the mean and standard deviation of the cleaned data.\n",
        "\n",
        "        Returns:\n",
        "            Tuple[float, float]: A tuple containing the mean and standard deviation.\n",
        "                                 Returns (0.0, 0.0) if no cleaned data is available.\n",
        "        \"\"\"\n",
        "    if self.cleaned_data:\n",
        "      mean_value = np.mean(self.cleaned_data)\n",
        "      std_dev_value = np.std(self.cleaned_data)\n",
        "      return mean_value, std_dev_value\n",
        "    else:\n",
        "      return 0.0, 0.0\n",
        "\n",
        "  def process(self) -> Tuple[float, float]:\n",
        "    \"\"\"\n",
        "        Executes the complete data processing pipeline: load, clean, and calculate statistics.\n",
        "\n",
        "        Returns:\n",
        "            Tuple[float, float]: A tuple containing the mean and standard deviation of the\n",
        "                                 cleaned data. Returns (0.0, 0.0) if processing fails.\n",
        "        \"\"\"\n",
        "    self.load_data()\n",
        "    self.clean_data()\n",
        "    return self.calculate_statistics()\n",
        "\n",
        "# Example usage:\n",
        "# processor = DataProcessor('your_data_file.csv')\n",
        "# mean, std_dev = processor.process()\n",
        "# print(f\"Mean: {mean}, Standard Deviation: {std_dev}\")"
      ],
      "metadata": {
        "id": "z6O6jKa0AOd-"
      },
      "execution_count": 6,
      "outputs": []
    },
    {
      "cell_type": "markdown",
      "source": [],
      "metadata": {
        "id": "sZuIwcdv-k12"
      }
    },
    {
      "cell_type": "markdown",
      "source": [
        "You are given a function **dog_info** that returns the name and breed of a dog and prints a message where the dog barks and presents himself. Your task is to refactor this function into a class with different methods and implement type hints."
      ],
      "metadata": {
        "id": "SRwl9wMu_j2W"
      }
    },
    {
      "cell_type": "code",
      "source": [
        "def dog_info(name, breed) -> None:\n",
        "    \"\"\"\n",
        "    Print information about a dog.\n",
        "\n",
        "    Args:\n",
        "        name (str): The name of the dog.\n",
        "        breed (str): The breed of the dog.\n",
        "    \"\"\"\n",
        "    print(f\"Name: {name}\")\n",
        "    print(f\"Breed: {breed}\")\n",
        "    print(f\"{name} says: Woof! I am a {breed}.\")"
      ],
      "metadata": {
        "id": "HgIWleu4_lzK"
      },
      "execution_count": null,
      "outputs": []
    },
    {
      "cell_type": "code",
      "source": [
        "\n",
        "class DOG:\n",
        "    \"\"\"\n",
        "    Represents a dog with a name and breed.\n",
        "    \"\"\"\n",
        "    def __init__(self, name: str, breed: str) -> None:\n",
        "        \"\"\"\n",
        "        Initialize the dog with a name and breed.\n",
        "\n",
        "        Args:\n",
        "            name (str): The name of the dog.\n",
        "            breed (str): The breed of the dog.\n",
        "        \"\"\"\n",
        "        self.name = name\n",
        "        self.breed = breed\n",
        "\n",
        "    def get_name(self) -> str:\n",
        "        \"\"\"\n",
        "        Return the name of the dog.\n",
        "\n",
        "        Returns:\n",
        "            str: The name of the dog.\n",
        "        \"\"\"\n",
        "        return self.name\n",
        "\n",
        "    def get_breed(self) -> str:\n",
        "        \"\"\"\n",
        "        Return the breed of the dog.\n",
        "\n",
        "        Returns:\n",
        "            str: The breed of the dog.\n",
        "        \"\"\"\n",
        "        return self.breed\n",
        "\n",
        "    def bark(self) -> None:\n",
        "        \"\"\"\n",
        "        Print a message where the dog barks.\n",
        "        \"\"\"\n",
        "        print(f\"{self.name} says: Woof!\")\n",
        "\n",
        "    def introduce(self) -> None:\n",
        "        \"\"\"\n",
        "        Print a message where the dog introduces himself.\n",
        "        \"\"\"\n",
        "        print(f\"Hello, I am {self.name} and I am a {self.breed}.\")"
      ],
      "metadata": {
        "id": "xrSJoAy9Aj7Y"
      },
      "execution_count": null,
      "outputs": []
    }
  ]
}