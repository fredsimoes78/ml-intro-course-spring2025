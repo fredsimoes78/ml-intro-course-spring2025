{
  "cells": [
    {
      "cell_type": "code",
      "execution_count": 1,
      "metadata": {
        "id": "b4MCnqE_r_Zi"
      },
      "outputs": [
        {
          "name": "stdout",
          "output_type": "stream",
          "text": [
            "The Zen of Python, by Tim Peters\n",
            "\n",
            "Beautiful is better than ugly.\n",
            "Explicit is better than implicit.\n",
            "Simple is better than complex.\n",
            "Complex is better than complicated.\n",
            "Flat is better than nested.\n",
            "Sparse is better than dense.\n",
            "Readability counts.\n",
            "Special cases aren't special enough to break the rules.\n",
            "Although practicality beats purity.\n",
            "Errors should never pass silently.\n",
            "Unless explicitly silenced.\n",
            "In the face of ambiguity, refuse the temptation to guess.\n",
            "There should be one-- and preferably only one --obvious way to do it.\n",
            "Although that way may not be obvious at first unless you're Dutch.\n",
            "Now is better than never.\n",
            "Although never is often better than *right* now.\n",
            "If the implementation is hard to explain, it's a bad idea.\n",
            "If the implementation is easy to explain, it may be a good idea.\n",
            "Namespaces are one honking great idea -- let's do more of those!\n"
          ]
        }
      ],
      "source": [
        "import this"
      ]
    },
    {
      "cell_type": "markdown",
      "metadata": {
        "id": "QOgOJ3rD36TR"
      },
      "source": [
        "## Coding Style\n",
        "\n",
        "\n",
        "*   Readibility counts (often more than brevity or speed)  \n",
        "*   Use names giving *intention revealing* purpose\n",
        "  *   For examples **numbers** instead of **n**\n",
        "  *   For example **temperature** instead **t**\n",
        "\n",
        "\n",
        "\n",
        "*   Avoid using names that are too general or too wordy. Strike a good balance between the two.\n",
        "        Bad: data_structure, my_list, info_map, dictionary_for_the_purpose_of_storing_data_representing_word_definitions\n",
        "        Good: user_profile, menu_options, word_definitions\n",
        "*   Never use the characters as single character variable names:\n",
        "        “l“ : lowercase letter el\n",
        "        “O“ : uppercase letter oh\n",
        "        “I“ : uppercase letter eye\n",
        "*   When using CamelCase names, capitalize all letters of an abbreviation (e.g. HTTPServer)\n"
      ]
    },
    {
      "cell_type": "code",
      "execution_count": 2,
      "metadata": {
        "id": "p0lO1JcixdXh"
      },
      "outputs": [],
      "source": [
        "def func(n):\n",
        "  r = 1\n",
        "  for i in n:\n",
        "    r *= i\n",
        "  return r"
      ]
    },
    {
      "cell_type": "code",
      "execution_count": 3,
      "metadata": {
        "colab": {
          "base_uri": "https://localhost:8080/"
        },
        "id": "ghf2U2IM-BVN",
        "outputId": "24d2edbf-cf32-4a6f-aa09-1dd0c511af24"
      },
      "outputs": [
        {
          "name": "stdout",
          "output_type": "stream",
          "text": [
            "Multiplying [1, 2, 3] returns 6\n"
          ]
        }
      ],
      "source": [
        "n = [1, 2, 3]\n",
        "print(f\"Multiplying {n} returns {func(n)}\")"
      ]
    },
    {
      "cell_type": "code",
      "execution_count": 4,
      "metadata": {
        "id": "LG77rwMP-Y_k"
      },
      "outputs": [],
      "source": [
        "def my_product(numbers):\n",
        "  \"\"\"  Compute the product of a list of numbers \"\"\"\n",
        "  total = 1\n",
        "  for item in numbers:\n",
        "    total *= item\n",
        "  return total"
      ]
    },
    {
      "cell_type": "code",
      "execution_count": 5,
      "metadata": {
        "colab": {
          "base_uri": "https://localhost:8080/"
        },
        "id": "Q3dhZKMZ_faz",
        "outputId": "2d449036-886e-463b-bae0-15b4c71a4ef2"
      },
      "outputs": [
        {
          "name": "stdout",
          "output_type": "stream",
          "text": [
            "Multiplying [1, 2, 3] returns 6\n"
          ]
        }
      ],
      "source": [
        "numbers = [1, 2, 3]\n",
        "print(f\"Multiplying {numbers} returns {my_product(numbers)}\")"
      ]
    },
    {
      "cell_type": "markdown",
      "metadata": {
        "id": "xQruuYNasgZC"
      },
      "source": [
        "Avoid using synonyms when naming variables.\n",
        "\n",
        "**This is bad**\n",
        "```python\n",
        "client_first_name = 'Bob'\n",
        "customer_last_name = 'Smith'\n",
        "```\n",
        "\n",
        "**This is good**\n",
        "```python\n",
        "client_first_name = 'Bob'\n",
        "client_last_name = 'Smith'\n",
        "```"
      ]
    },
    {
      "cell_type": "markdown",
      "metadata": {
        "id": "P3ZDtXXzJm67"
      },
      "source": [
        "## Bonus: reduce and list comprehension"
      ]
    },
    {
      "cell_type": "code",
      "execution_count": 6,
      "metadata": {
        "id": "Urdy-DBrJtmV"
      },
      "outputs": [],
      "source": [
        "from functools import reduce\n",
        "\n",
        "\n",
        "def my_product2(numbers):\n",
        "  \"\"\"  Compute the product of a list of numbers \"\"\"\n",
        "  return reduce(lambda x, y: x * y, numbers)"
      ]
    },
    {
      "cell_type": "code",
      "execution_count": 10,
      "metadata": {
        "colab": {
          "base_uri": "https://localhost:8080/"
        },
        "id": "R0rSQtrKJ0hE",
        "outputId": "8d9fcc6c-e2fc-47e3-e35f-35225d729bda"
      },
      "outputs": [
        {
          "name": "stdout",
          "output_type": "stream",
          "text": [
            "Multiplying [1, 2, 3, 4, 5, 6, 7, 8, 9, 10, 11, 12, 13, 14, 15, 16, 17, 18, 19, 20, 21, 22, 23, 24, 25, 26, 27, 28, 29, 30, 31, 32, 33, 34, 35, 36, 37, 38, 39, 40, 41, 42, 43, 44, 45, 46, 47, 48, 49, 50, 51, 52, 53, 54, 55, 56, 57, 58, 59, 60, 61, 62, 63, 64, 65, 66, 67, 68, 69, 70, 71, 72, 73, 74, 75, 76, 77, 78, 79, 80, 81, 82, 83, 84, 85, 86, 87, 88, 89, 90, 91, 92, 93, 94, 95, 96, 97, 98, 99] returns 933262154439441526816992388562667004907159682643816214685929638952175999932299156089414639761565182862536979208272237582511852109168640000000000000000000000\n",
            "Multiplying [1, 2, 3, 4, 5, 6, 7, 8, 9, 10, 11, 12, 13, 14, 15, 16, 17, 18, 19, 20, 21, 22, 23, 24, 25, 26, 27, 28, 29, 30, 31, 32, 33, 34, 35, 36, 37, 38, 39, 40, 41, 42, 43, 44, 45, 46, 47, 48, 49, 50, 51, 52, 53, 54, 55, 56, 57, 58, 59, 60, 61, 62, 63, 64, 65, 66, 67, 68, 69, 70, 71, 72, 73, 74, 75, 76, 77, 78, 79, 80, 81, 82, 83, 84, 85, 86, 87, 88, 89, 90, 91, 92, 93, 94, 95, 96, 97, 98, 99] returns 933262154439441526816992388562667004907159682643816214685929638952175999932299156089414639761565182862536979208272237582511852109168640000000000000000000000\n",
            "Multiplying [1, 2, 3, 4, 5, 6, 7, 8, 9, 10, 11, 12, 13, 14, 15, 16, 17, 18, 19, 20, 21, 22, 23, 24, 25, 26, 27, 28, 29, 30, 31, 32, 33, 34, 35, 36, 37, 38, 39, 40, 41, 42, 43, 44, 45, 46, 47, 48, 49, 50, 51, 52, 53, 54, 55, 56, 57, 58, 59, 60, 61, 62, 63, 64, 65, 66, 67, 68, 69, 70, 71, 72, 73, 74, 75, 76, 77, 78, 79, 80, 81, 82, 83, 84, 85, 86, 87, 88, 89, 90, 91, 92, 93, 94, 95, 96, 97, 98, 99] returns 0\n",
            "Using reduce took 1.32E-04 seconds\n",
            "Using for loop took 6.99E-05 seconds\n",
            "Using numpy took 1.33E-04 seconds\n"
          ]
        }
      ],
      "source": [
        "import time\n",
        "import numpy as np\n",
        "\n",
        "numbers = [number for number in range(1, 100)]\n",
        "\n",
        "\n",
        "start = time.time()\n",
        "print(f\"Multiplying {numbers} returns {my_product2(numbers)}\")\n",
        "end = time.time()\n",
        "\n",
        "start2 = time.time()\n",
        "print(f\"Multiplying {numbers} returns {my_product(numbers)}\")\n",
        "end2 = time.time()\n",
        "\n",
        "start3 = time.time()\n",
        "print(f\"Multiplying {numbers} returns {np.prod(numbers)}\")\n",
        "end3 = time.time()\n",
        "\n",
        "print(f\"Using reduce took {end - start:.2E} seconds\")\n",
        "print(f\"Using for loop took {end2 - start2:.2E} seconds\")\n",
        "print(f\"Using numpy took {end3 - start3:.2E} seconds\")\n"
      ]
    },
    {
      "cell_type": "markdown",
      "metadata": {
        "id": "OeL2lEEHE8_6"
      },
      "source": [
        "## Bonus: testing your code"
      ]
    },
    {
      "cell_type": "code",
      "execution_count": 11,
      "metadata": {
        "id": "FSqtNjiR_j7p"
      },
      "outputs": [],
      "source": [
        "assert(func([2, 4, 8]) == 64)"
      ]
    },
    {
      "cell_type": "code",
      "execution_count": null,
      "metadata": {
        "colab": {
          "base_uri": "https://localhost:8080/"
        },
        "id": "aa8iX9WNA-AE",
        "outputId": "2312b7d0-1940-46e4-d561-f45ac2c2d16c"
      },
      "outputs": [
        {
          "name": "stderr",
          "output_type": "stream",
          "text": [
            "..\n",
            "----------------------------------------------------------------------\n",
            "Ran 2 tests in 0.001s\n",
            "\n",
            "OK\n"
          ]
        }
      ],
      "source": [
        "import unittest\n",
        "\n",
        "class TestProduct(unittest.TestCase):\n",
        "  def test_product(self):\n",
        "    self.assertEqual(func([2, 4, 8]), 64)\n",
        "    #others are assertTrue/False or assertRaises\n",
        "\n",
        "  def test_product_2(self):\n",
        "    self.assertEqual(my_product ([1, 2, 3]), 6)\n",
        "\n",
        "if __name__ == '__main__':\n",
        "  unittest.main(argv=['first-arg-is-ignored'], verbosity=1, exit=False) #runs all functions in test case\n",
        "  #argv with dummy message is bc this is run in jupyter could give problems\n",
        "  #verbose 1 is default is amount of detail in output\n",
        "  #exit=False in jupyter you don't want to exit kernel"
      ]
    },
    {
      "cell_type": "markdown",
      "metadata": {
        "id": "qwW5ZJZWSXLH"
      },
      "source": [
        "## Documentation\n",
        "\n",
        "A docstring is a string literal that occurs as the first statement in a module, function, class, or method definition. Such a docstring becomes the ``_doc_` special attribute of that object.\n",
        "\n",
        " [Docstring Python](https://peps.python.org/pep-0257/)\n",
        "\n",
        "One-Line and Multiple-Line Docstrings:\n",
        "\n",
        "\n",
        "\n",
        "```python\n",
        "def kos_root():\n",
        "    \"\"\"Return the pathname of the KOS root directory.\"\"\"\n",
        "    global _kos_root\n",
        "    if _kos_root: return _kos_root\n",
        "    ...\n",
        "```\n",
        "\n",
        "```python\n",
        "def complex(real=0.0, imag=0.0):\n",
        "    \"\"\"Form a complex number.\n",
        "\n",
        "    Keyword arguments:\n",
        "    real -- the real part (default 0.0)\n",
        "    imag -- the imaginary part (default 0.0)\n",
        "    \"\"\"\n",
        "    if imag == 0.0 and real == 0.0:\n",
        "        return complex_zero\n",
        "    ...\n",
        "```"
      ]
    },
    {
      "cell_type": "code",
      "execution_count": 139,
      "metadata": {
        "id": "lcSiM8K-SadH"
      },
      "outputs": [],
      "source": [
        "def my_product(numbers):\n",
        "  \"\"\"Compute the product of a list of numbers.\n",
        "\n",
        "  Args:\n",
        "    numbers: A list of numbers.\n",
        "\n",
        "  Returns:\n",
        "    The product of the numbers in the input list.\n",
        "    Returns 1 if the input list is empty.\n",
        "  \"\"\"\n",
        "  total = 1\n",
        "  for item in numbers:\n",
        "    total *= item\n",
        "  return total\n"
      ]
    },
    {
      "cell_type": "markdown",
      "metadata": {
        "id": "IRcyK1-FoisD"
      },
      "source": [
        "###Docstrings become useful documentation"
      ]
    },
    {
      "cell_type": "code",
      "execution_count": 140,
      "metadata": {
        "colab": {
          "base_uri": "https://localhost:8080/"
        },
        "id": "dKZTllEEodlM",
        "outputId": "fb1cf65e-b7a7-49de-aa18-e1d4f59cfdcf"
      },
      "outputs": [
        {
          "name": "stdout",
          "output_type": "stream",
          "text": [
            "Help on function my_product in module __main__:\n",
            "\n",
            "my_product(numbers)\n",
            "    Compute the product of a list of numbers.\n",
            "    \n",
            "    Args:\n",
            "      numbers: A list of numbers.\n",
            "    \n",
            "    Returns:\n",
            "      The product of the numbers in the input list.\n",
            "      Returns 1 if the input list is empty.\n",
            "\n"
          ]
        }
      ],
      "source": [
        "help(my_product)"
      ]
    },
    {
      "cell_type": "code",
      "execution_count": 141,
      "metadata": {
        "colab": {
          "base_uri": "https://localhost:8080/"
        },
        "id": "e-fmpWVZoqA6",
        "outputId": "c89437b2-3942-4f10-9874-374a9f008e29"
      },
      "outputs": [
        {
          "name": "stdout",
          "output_type": "stream",
          "text": [
            "  Compute the product of a list of numbers \n"
          ]
        }
      ],
      "source": [
        "print(my_product2.__doc__)"
      ]
    },
    {
      "cell_type": "markdown",
      "metadata": {
        "id": "UZxUuxf-vBvR"
      },
      "source": [
        "**Code Examples**\n",
        "\n",
        "You can also add code examples to docstrings, showing example usage of the function, method, or class."
      ]
    },
    {
      "cell_type": "code",
      "execution_count": 142,
      "metadata": {
        "id": "-FsPOE-2u6V2"
      },
      "outputs": [],
      "source": [
        "def daily_average(temperatures: list[float], new_param=None) -> float:\n",
        "    \"\"\"\n",
        "    Get average daily temperature\n",
        "\n",
        "    Calculate average temperature from multiple measurements\n",
        "\n",
        "    >>> daily_average([10.0, 12.0, 14.0])\n",
        "    12.0\n",
        "\n",
        "    :param temperatures: list of temperatures\n",
        "    :return: Average temperature\n",
        "    \"\"\"\n",
        "\n",
        "    return sum(temperatures)/len(temperatures)\n"
      ]
    },
    {
      "cell_type": "markdown",
      "metadata": {
        "id": "2SLm5of00Gjh"
      },
      "source": [
        "**Comments**\n",
        "\n",
        "No matter how hard we try to write clean code, there are still going to be parts of your program that need additional explanation. Comments allow us to quickly tell other developers (and our future selves) why we wrote it in the manner that we did. Keep in mind that adding too many comments can make your code messier than it would be without them.\n",
        "\n",
        "|      Type     |    Answers   | Stakeholder |\n",
        "|:-------------:|:------------:|:-----------:|\n",
        "| Documentation | When and How | Users       |\n",
        "| Code Comments | Why          | Developers  |\n",
        "| Clean Code    | What         | Developers  |"
      ]
    },
    {
      "cell_type": "markdown",
      "metadata": {
        "id": "A0ARV6YEvWAT"
      },
      "source": [
        "##Bonus - Styles:\n",
        "\n"
      ]
    },
    {
      "cell_type": "markdown",
      "metadata": {
        "id": "7w9SxrbHwpTn"
      },
      "source": [
        "**Sphinx Style**\n",
        "\n",
        "Sphinx is the easy and traditional style, verbose, and was initially created specifically for Python Documentation. Sphinx uses a reStructured Text, which is similar in usage to Markdown.\n",
        "\n",
        "```python\n",
        "class Vehicle(object):\n",
        "    '''\n",
        "    The Vehicle object contains lots of vehicles\n",
        "    :param arg: The arg is used for ...\n",
        "    :type arg: str\n",
        "    :param `*args`: The variable arguments are used for ...\n",
        "    :param `**kwargs`: The keyword arguments are used for ...\n",
        "    :ivar arg: This is where we store arg\n",
        "    :vartype arg: str\n",
        "    '''\n",
        "\n",
        "\n",
        "    def __init__(self, arg, *args, **kwargs):\n",
        "        self.arg = arg\n",
        "\n",
        "    def cars(self, distance, destination):\n",
        "        '''We can't travel a certain distance in vehicles without fuels, so here's the fuels\n",
        "\n",
        "        :param distance: The amount of distance traveled\n",
        "        :type amount: int\n",
        "        :param bool destinationReached: Should the fuels be refilled to cover required distance?\n",
        "        :raises: :class:`RuntimeError`: Out of fuel\n",
        "\n",
        "        :returns: A Car mileage\n",
        "        :rtype: Cars\n",
        "        '''  \n",
        "        pass\n",
        "```\n",
        "\n"
      ]
    },
    {
      "cell_type": "markdown",
      "metadata": {
        "id": "QtMFcmXSwTEA"
      },
      "source": [
        "\n",
        "**Google Style**\n",
        "\n",
        "Google Style is easier and more intuitive to use. It can be used for the shorter form of documentation. A configuration of python file needs to be done to get started, so you need to add either sphinx.ext.napoleon or sphinxcontrib.napoleon to the extensions list in conf.py.\n",
        "\n",
        "```python\n",
        "class Vehicles(object):\n",
        "    '''\n",
        "    The Vehicle object contains a lot of vehicles\n",
        "\n",
        "    Args:\n",
        "        arg (str): The arg is used for...\n",
        "        *args: The variable arguments are used for...\n",
        "        **kwargs: The keyword arguments are used for...\n",
        "\n",
        "    Attributes:\n",
        "        arg (str): This is where we store arg,\n",
        "    '''\n",
        "    def __init__(self, arg, *args, **kwargs):\n",
        "        self.arg = arg\n",
        "\n",
        "    def cars(self, distance,destination):\n",
        "        '''We can't travel distance in vehicles without fuels, so here is the fuels\n",
        "\n",
        "        Args:\n",
        "            distance (int): The amount of distance traveled\n",
        "            destination (bool): Should the fuels refilled to cover the distance?\n",
        "\n",
        "        Raises:\n",
        "            RuntimeError: Out of fuel\n",
        "\n",
        "        Returns:\n",
        "            cars: A car mileage\n",
        "        '''\n",
        "        pass\n",
        "\n",
        "```"
      ]
    },
    {
      "cell_type": "markdown",
      "metadata": {
        "id": "ka2byBQExAHn"
      },
      "source": [
        "**Numpy Style**\n",
        "\n",
        "Numpy style has a lot of details in the documentation. It is more verbose than other documentation, but it is an excellent choice if you want to do detailed documentation, i.e., extensive documentation of all the functions and parameters.\n",
        "\n",
        "```python\n",
        "class Vehicles(object):\n",
        "    '''\n",
        "    The Vehicles object contains lots of vehicles\n",
        "\n",
        "    Parameters\n",
        "    ----------\n",
        "    arg : str\n",
        "        The arg is used for ...\n",
        "    *args\n",
        "        The variable arguments are used for ...\n",
        "    **kwargs\n",
        "        The keyword arguments are used for ...\n",
        "\n",
        "    Attributes\n",
        "    ----------\n",
        "    arg : str\n",
        "        This is where we store arg,\n",
        "    '''\n",
        "    def __init__(self, arg, *args, **kwargs):\n",
        "        self.arg = arg\n",
        "\n",
        "    def cars(self, distance, destination):\n",
        "        '''We can't travel distance in vehicles without fuels, so here is the fuels\n",
        "\n",
        "        Parameters\n",
        "        ----------\n",
        "        distance : int\n",
        "            The amount of distance traveled\n",
        "        destination : bool\n",
        "            Should the fuels refilled to cover the distance?\n",
        "\n",
        "        Raises\n",
        "        ------\n",
        "        RuntimeError\n",
        "            Out of fuel\n",
        "\n",
        "        Returns\n",
        "        -------\n",
        "        cars\n",
        "            A car mileage\n",
        "        '''\n",
        "        pass\n",
        "```\n",
        "\n"
      ]
    },
    {
      "cell_type": "markdown",
      "metadata": {
        "id": "YFfbQ8Lqbzc5"
      },
      "source": [
        "## Type-Hint\n",
        "\n",
        "An annotation that specifies the expected type for a variable, a class attribute, or a function parameter or return value.\n",
        "\n",
        "Type hints are optional and are not enforced by Python but they are useful to static type checkers. They can also aid IDEs with code completion and refactoring.\n",
        "\n",
        "Type hints of global variables, class attributes, and functions, but not local variables, can be accessed using typing.get_type_hints().\n",
        "\n",
        "See [typing](https://docs.python.org/3/library/typing.html) and [PEP 484](https://peps.python.org/pep-0484/), which describe this functionality.\n"
      ]
    },
    {
      "cell_type": "code",
      "execution_count": 80,
      "metadata": {
        "id": "NrVQ82yjZrLd"
      },
      "outputs": [],
      "source": [
        "from typing import List\n",
        "\n",
        "def my_product(numbers: List[int]) -> int:\n",
        "  \"\"\"Compute the product of a list of numbers.\n",
        "\n",
        "  Args:\n",
        "    numbers: A list of numbers.\n",
        "\n",
        "  Returns:\n",
        "    The product of the numbers in the input list.\n",
        "    Returns 1 if the input list is empty.\n",
        "  \"\"\"\n",
        "  total = 1\n",
        "  for item in numbers:\n",
        "    total *= item\n",
        "  return total\n"
      ]
    },
    {
      "cell_type": "code",
      "execution_count": 107,
      "metadata": {
        "colab": {
          "base_uri": "https://localhost:8080/",
          "height": 304
        },
        "id": "5B-0eCuvbkbh",
        "outputId": "355789c1-a387-40c3-8ce6-5da9f124bf07"
      },
      "outputs": [
        {
          "ename": "TypeError",
          "evalue": "can only concatenate str (not \"int\") to str",
          "output_type": "error",
          "traceback": [
            "\u001b[0;31m---------------------------------------------------------------------------\u001b[0m",
            "\u001b[0;31mTypeError\u001b[0m                                 Traceback (most recent call last)",
            "\u001b[0;32m<ipython-input-107-d17f197c6e75>\u001b[0m in \u001b[0;36m<cell line: 0>\u001b[0;34m()\u001b[0m\n\u001b[1;32m      4\u001b[0m \u001b[0;31m# These calls will fail when the program runs, but mypy does not report an error\u001b[0m\u001b[0;34m\u001b[0m\u001b[0;34m\u001b[0m\u001b[0m\n\u001b[1;32m      5\u001b[0m \u001b[0;31m# because \"greeting\" does not have type annotations.\u001b[0m\u001b[0;34m\u001b[0m\u001b[0;34m\u001b[0m\u001b[0m\n\u001b[0;32m----> 6\u001b[0;31m \u001b[0mgreeting\u001b[0m\u001b[0;34m(\u001b[0m\u001b[0;36m123\u001b[0m\u001b[0;34m)\u001b[0m\u001b[0;34m\u001b[0m\u001b[0;34m\u001b[0m\u001b[0m\n\u001b[0m",
            "\u001b[0;32m<ipython-input-107-d17f197c6e75>\u001b[0m in \u001b[0;36mgreeting\u001b[0;34m(name)\u001b[0m\n\u001b[1;32m      1\u001b[0m \u001b[0;32mdef\u001b[0m \u001b[0mgreeting\u001b[0m\u001b[0;34m(\u001b[0m\u001b[0mname\u001b[0m\u001b[0;34m)\u001b[0m\u001b[0;34m:\u001b[0m\u001b[0;34m\u001b[0m\u001b[0;34m\u001b[0m\u001b[0m\n\u001b[0;32m----> 2\u001b[0;31m     \u001b[0;32mreturn\u001b[0m \u001b[0;34m'Hello '\u001b[0m \u001b[0;34m+\u001b[0m \u001b[0mname\u001b[0m\u001b[0;34m\u001b[0m\u001b[0;34m\u001b[0m\u001b[0m\n\u001b[0m\u001b[1;32m      3\u001b[0m \u001b[0;34m\u001b[0m\u001b[0m\n\u001b[1;32m      4\u001b[0m \u001b[0;31m# These calls will fail when the program runs, but mypy does not report an error\u001b[0m\u001b[0;34m\u001b[0m\u001b[0;34m\u001b[0m\u001b[0m\n\u001b[1;32m      5\u001b[0m \u001b[0;31m# because \"greeting\" does not have type annotations.\u001b[0m\u001b[0;34m\u001b[0m\u001b[0;34m\u001b[0m\u001b[0m\n",
            "\u001b[0;31mTypeError\u001b[0m: can only concatenate str (not \"int\") to str"
          ]
        }
      ],
      "source": [
        "def greeting(name):\n",
        "    return 'Hello ' + name\n",
        "\n",
        "# These calls will fail when the program runs, but mypy does not report an error\n",
        "# because \"greeting\" does not have type annotations.\n",
        "greeting(123)"
      ]
    },
    {
      "cell_type": "markdown",
      "metadata": {
        "id": "t7yymt1Qi5Nb"
      },
      "source": [
        "Low Quality Code"
      ]
    },
    {
      "cell_type": "code",
      "execution_count": 108,
      "metadata": {
        "colab": {
          "base_uri": "https://localhost:8080/"
        },
        "id": "qTR8-gA0ixn5",
        "outputId": "96888e73-4e4d-4288-d419-cf27ef2482f9"
      },
      "outputs": [
        {
          "data": {
            "text/plain": [
              "5"
            ]
          },
          "execution_count": 108,
          "metadata": {},
          "output_type": "execute_result"
        }
      ],
      "source": [
        "def add_numbers(a, b):\n",
        "    return a + b\n",
        "\n",
        "\n",
        "add_numbers(2, 3)"
      ]
    },
    {
      "cell_type": "code",
      "execution_count": 109,
      "metadata": {
        "colab": {
          "base_uri": "https://localhost:8080/",
          "height": 268
        },
        "id": "thq0Qyo2i8-C",
        "outputId": "ecc991fe-490c-4e18-8fa2-a19c70450274"
      },
      "outputs": [
        {
          "ename": "TypeError",
          "evalue": "unsupported operand type(s) for +: 'int' and 'str'",
          "output_type": "error",
          "traceback": [
            "\u001b[0;31m---------------------------------------------------------------------------\u001b[0m",
            "\u001b[0;31mTypeError\u001b[0m                                 Traceback (most recent call last)",
            "\u001b[0;32m<ipython-input-109-278950fde4a7>\u001b[0m in \u001b[0;36m<cell line: 0>\u001b[0;34m()\u001b[0m\n\u001b[0;32m----> 1\u001b[0;31m \u001b[0madd_numbers\u001b[0m\u001b[0;34m(\u001b[0m\u001b[0;36m2\u001b[0m\u001b[0;34m,\u001b[0m \u001b[0;34m\"3\"\u001b[0m\u001b[0;34m)\u001b[0m\u001b[0;34m\u001b[0m\u001b[0;34m\u001b[0m\u001b[0m\n\u001b[0m",
            "\u001b[0;32m<ipython-input-108-e5122429b2d9>\u001b[0m in \u001b[0;36madd_numbers\u001b[0;34m(a, b)\u001b[0m\n\u001b[1;32m      1\u001b[0m \u001b[0;32mdef\u001b[0m \u001b[0madd_numbers\u001b[0m\u001b[0;34m(\u001b[0m\u001b[0ma\u001b[0m\u001b[0;34m,\u001b[0m \u001b[0mb\u001b[0m\u001b[0;34m)\u001b[0m\u001b[0;34m:\u001b[0m\u001b[0;34m\u001b[0m\u001b[0;34m\u001b[0m\u001b[0m\n\u001b[0;32m----> 2\u001b[0;31m     \u001b[0;32mreturn\u001b[0m \u001b[0ma\u001b[0m \u001b[0;34m+\u001b[0m \u001b[0mb\u001b[0m\u001b[0;34m\u001b[0m\u001b[0;34m\u001b[0m\u001b[0m\n\u001b[0m\u001b[1;32m      3\u001b[0m \u001b[0;34m\u001b[0m\u001b[0m\n\u001b[1;32m      4\u001b[0m \u001b[0;34m\u001b[0m\u001b[0m\n\u001b[1;32m      5\u001b[0m \u001b[0madd_numbers\u001b[0m\u001b[0;34m(\u001b[0m\u001b[0;36m2\u001b[0m\u001b[0;34m,\u001b[0m \u001b[0;36m3\u001b[0m\u001b[0;34m)\u001b[0m\u001b[0;34m\u001b[0m\u001b[0;34m\u001b[0m\u001b[0m\n",
            "\u001b[0;31mTypeError\u001b[0m: unsupported operand type(s) for +: 'int' and 'str'"
          ]
        }
      ],
      "source": [
        "add_numbers(2, \"3\")"
      ]
    },
    {
      "cell_type": "markdown",
      "metadata": {
        "id": "j9cjpeX1jBVN"
      },
      "source": [
        "High Quality Code"
      ]
    },
    {
      "cell_type": "code",
      "execution_count": 110,
      "metadata": {
        "id": "flMwwTZDjE2Y"
      },
      "outputs": [],
      "source": [
        "def add_numbers(a: int | float, b: int | float) -> float:\n",
        "    a, b = float(a), float(b)\n",
        "    return a + b"
      ]
    },
    {
      "cell_type": "code",
      "execution_count": 111,
      "metadata": {
        "colab": {
          "base_uri": "https://localhost:8080/"
        },
        "id": "HTCKADyajQVW",
        "outputId": "a6d1ad80-6b11-43c3-9bd5-119a158267a4"
      },
      "outputs": [
        {
          "name": "stderr",
          "output_type": "stream",
          "text": [
            "<cell>1: error: Argument 2 to \"add_numbers\" has incompatible type \"str\"; expected \"int | float\"  [arg-type]\n",
            "ERROR:nb-mypy:<cell>1: error: Argument 2 to \"add_numbers\" has incompatible type \"str\"; expected \"int | float\"  [arg-type]\n"
          ]
        },
        {
          "data": {
            "text/plain": [
              "5.0"
            ]
          },
          "execution_count": 111,
          "metadata": {},
          "output_type": "execute_result"
        }
      ],
      "source": [
        "add_numbers(2, \"3\")"
      ]
    },
    {
      "cell_type": "markdown",
      "metadata": {
        "id": "0oB1s0gAjyXO"
      },
      "source": []
    },
    {
      "cell_type": "markdown",
      "metadata": {
        "id": "NlpD792AGymk"
      },
      "source": [
        "## Keep it simple (Stupid) - KIS(S) Principle\n",
        "\n",
        "\n",
        "\n",
        "---\n",
        "\n",
        "> Debugging is twice as hard as writing the code in the first place.\n",
        "Therefore, if you write the code as cleverly as possible,\n",
        "you are, by definition, not smart enough to debug it.\n",
        "\n",
        "Brian W. Kernighan\n",
        "\n",
        "---\n",
        "\n",
        "\n",
        "Here are key strategies for implementing the KISS principle:\n",
        "\n",
        "*   **Write Smaller Programs**: Keep your methods and classes concise.\n",
        "*   **Remove Unused Code**: Eliminate superfluous methods and instances that serve no purpose, reducing clutter and potential confusion.\n",
        "*   **Aim to solve one problem at a time**.\n",
        "*   **Focus on Readability**: Write code that is transparent and straightforward for others to follow.\n",
        "*   **Employ Composition**: Use existing code effectively by composing simple pieces instead of rewriting functionality.\n",
        "*    **Modular Programming**: Break down your application into modules that can function independently. This approach aids in organization and enhances flexibility.\n",
        "\n",
        "Applying these strategies will help you maintain simplicity and clarity in your codebase.\n"
      ]
    },
    {
      "cell_type": "code",
      "execution_count": 106,
      "metadata": {
        "colab": {
          "base_uri": "https://localhost:8080/",
          "height": 35
        },
        "id": "sthGEu9njuaD",
        "outputId": "910e35bb-5ef0-4e47-ee97-9cebd3a834ec"
      },
      "outputs": [
        {
          "data": {
            "application/vnd.google.colaboratory.intrinsic+json": {
              "type": "string"
            },
            "text/plain": [
              "'The surface area of the cube is 24.'"
            ]
          },
          "execution_count": 106,
          "metadata": {},
          "output_type": "execute_result"
        }
      ],
      "source": [
        "def surface_area_of_cube(edge_length: float) -> str:\n",
        "    return f\"The surface area of the cube is {6 * edge_length ** 2}.\"\n",
        "\n",
        "\n",
        "surface_area_of_cube(2)"
      ]
    },
    {
      "cell_type": "markdown",
      "metadata": {
        "id": "2mlDjvhNm21y"
      },
      "source": [
        "**Readability:**\n",
        "\n",
        "\n",
        "\n",
        "```python\n",
        "def ca(w, h):\n",
        "    return w * h\n",
        "\n",
        "ca(12, 20)\n",
        "```\n",
        "\n",
        "```python\n",
        "def calculate_rectangle_area(width: float, height: float) -> float:\n",
        "    return width * height\n",
        "\n",
        "\n",
        "calculate_rectangle_area(12, 20)\n",
        "```"
      ]
    },
    {
      "cell_type": "markdown",
      "metadata": {
        "id": "1sek0fPzxcFi"
      },
      "source": [
        "**Reusability**\n",
        "\n",
        "\n",
        "\n",
        "```python\n",
        "def greet_alice():\n",
        "    return \"Hello, Alice!\"\n",
        "\n",
        "\n",
        "greet_alice()\n",
        "```\n",
        "\n",
        "\n",
        "\n",
        "```python\n",
        "def greet(name: str) -> str:\n",
        "    return f\"Hello, {name}!\"\n",
        "\n",
        "\n",
        "greet(\"Alice\")\n",
        "\n",
        "greet(\"John\")\n",
        "\n",
        "greet(\"Jane\")\n",
        "```\n",
        "\n"
      ]
    },
    {
      "cell_type": "code",
      "execution_count": 137,
      "metadata": {
        "colab": {
          "base_uri": "https://localhost:8080/"
        },
        "id": "S9-pQqF2nEuN",
        "outputId": "6ab84488-eefe-467b-af5c-740a669ebeb8"
      },
      "outputs": [
        {
          "name": "stdout",
          "output_type": "stream",
          "text": [
            "6\n"
          ]
        }
      ],
      "source": [
        "def process(numbers):\n",
        "    cleaned = [number for number in numbers if number >= 0]\n",
        "    return sum(cleaned)\n",
        "\n",
        "\n",
        "print(process([1, 2, 3, -1, -2, -3]))"
      ]
    },
    {
      "cell_type": "code",
      "execution_count": 138,
      "metadata": {
        "colab": {
          "base_uri": "https://localhost:8080/"
        },
        "id": "72XDFiraySTT",
        "outputId": "cec02bd1-0041-4c0c-d821-146527f76b72"
      },
      "outputs": [
        {
          "name": "stdout",
          "output_type": "stream",
          "text": [
            "6\n"
          ]
        }
      ],
      "source": [
        "def clean_data(numbers: list[int]) -> list[int]:\n",
        "    return [number for number in numbers if number >= 0]\n",
        "\n",
        "\n",
        "def calculate_total(numbers: list[int]) -> int:\n",
        "    return sum(numbers)\n",
        "\n",
        "\n",
        "cleaned = clean_data([1, 2, 3, -1, -2, -3])\n",
        "print(calculate_total(cleaned))"
      ]
    },
    {
      "cell_type": "code",
      "execution_count": null,
      "metadata": {
        "id": "GnLj-iHkyaQW"
      },
      "outputs": [],
      "source": []
    }
  ],
  "metadata": {
    "colab": {
      "provenance": []
    },
    "kernelspec": {
      "display_name": "env",
      "language": "python",
      "name": "python3"
    },
    "language_info": {
      "codemirror_mode": {
        "name": "ipython",
        "version": 3
      },
      "file_extension": ".py",
      "mimetype": "text/x-python",
      "name": "python",
      "nbconvert_exporter": "python",
      "pygments_lexer": "ipython3",
      "version": "3.12.9"
    }
  },
  "nbformat": 4,
  "nbformat_minor": 0
}
