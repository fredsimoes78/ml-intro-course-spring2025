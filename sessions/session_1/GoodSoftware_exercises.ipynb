{
  "cells": [
    {
      "cell_type": "markdown",
      "metadata": {
        "id": "sOpJ1RpEluIJ"
      },
      "source": []
    },
    {
      "cell_type": "markdown",
      "metadata": {
        "id": "trbyQ1fulwCl"
      },
      "source": [
        "## Coding Style"
      ]
    },
    {
      "cell_type": "markdown",
      "metadata": {
        "id": "1j6mgPpS3jOj"
      },
      "source": [
        "**Task:** Refactor the following function to improve readability by using better variable names. This function calculates the mean of a list of numbers."
      ]
    },
    {
      "cell_type": "code",
      "execution_count": 4,
      "metadata": {
        "id": "7O1AlCiO345V"
      },
      "outputs": [],
      "source": [
        "def calc_mean(vals):\n",
        "    s = 0\n",
        "    for v in vals:\n",
        "        s += v\n",
        "    return s / len(vals)"
      ]
    },
    {
      "cell_type": "code",
      "execution_count": 5,
      "metadata": {
        "id": "Zmf8qVfI37Dn"
      },
      "outputs": [],
      "source": [
        "#Your solution here...\n",
        "\n",
        "#def calculate_mean()\n",
        "\n",
        "def calc_mean(values):\n",
        "    sum = 0\n",
        "    for val in values:\n",
        "        sum += val\n",
        "    return sum / len(values)"
      ]
    },
    {
      "cell_type": "code",
      "execution_count": null,
      "metadata": {
        "id": "O7lr74ps5LAT"
      },
      "outputs": [],
      "source": [
        "# Try again, now using the function reduce and len\n",
        "# if values = [1, 2, 3]\n",
        "# len(values) = 3\n",
        "\n",
        "from functools import reduce\n",
        "\n",
        "#...your function here\n",
        "\n",
        "def add(x, y):\n",
        "    return x + y\n",
        "\n",
        "def calc_mean(values):\n",
        "    return reduce(add,values) / len(values)\n"
      ]
    },
    {
      "cell_type": "markdown",
      "metadata": {
        "id": "PiMyTEfW9Py2"
      },
      "source": [
        "You are given a function **process_user_data** that processes user data. The function is well-written with type hints and clean code, but the naming conventions are inconsistent and not descriptive enough. Your task is to refactor the function to improve the naming conventions."
      ]
    },
    {
      "cell_type": "markdown",
      "metadata": {
        "id": "yWv2hYu29atW"
      },
      "source": [
        "**Original function**"
      ]
    },
    {
      "cell_type": "code",
      "execution_count": null,
      "metadata": {
        "id": "VLT1u9679T9X"
      },
      "outputs": [],
      "source": [
        "from typing import List, Dict\n",
        "\n",
        "def process_user_data(user_data: List[Dict[str, str]]) -> List[Dict[str, str]]:\n",
        "    \"\"\"\n",
        "    Process user data by extracting relevant information.\n",
        "\n",
        "    Args:\n",
        "        user_data (List[Dict[str, str]]): A list of dictionaries containing user data.\n",
        "\n",
        "    Returns:\n",
        "        List[Dict[str, str]]: A list of dictionaries containing processed user data.\n",
        "    \"\"\"\n",
        "    processed_data = []\n",
        "\n",
        "    for user in user_data:\n",
        "        cust_name = user.get('customer_name')\n",
        "        cl_age = user.get('client_age')\n",
        "        usr_email = user.get('user_email')\n",
        "\n",
        "        if cust_name and cl_age and usr_email:\n",
        "            processed_data.append({\n",
        "                'name': cust_name,\n",
        "                'age': cl_age,\n",
        "                'email': usr_email\n",
        "            })\n",
        "\n",
        "    return processed_data"
      ]
    },
    {
      "cell_type": "code",
      "execution_count": null,
      "metadata": {},
      "outputs": [],
      "source": [
        "from typing import List, Dict\n",
        "\n",
        "def process_user_data(user_data: List[Dict[str, str]]) -> List[Dict[str, str]]:\n",
        "    \"\"\"\n",
        "    Process user data by extracting relevant information.\n",
        "\n",
        "    Args:\n",
        "        user_data (List[Dict[str, str]]): A list of dictionaries containing user data.\n",
        "\n",
        "    Returns:\n",
        "        List[Dict[str, str]]: A list of dictionaries containing processed user data.\n",
        "    \"\"\"\n",
        "    processed_data = []\n",
        "\n",
        "    for user in user_data:\n",
        "        cust_name = user.get('customer_name')\n",
        "        cl_age = user.get('client_age')\n",
        "        usr_email = user.get('user_email')\n",
        "\n",
        "        if cust_name and cl_age and usr_email:\n",
        "            processed_data.append({\n",
        "                'name': cust_name,\n",
        "                'age': cl_age,\n",
        "                'email': usr_email\n",
        "            })\n",
        "\n",
        "    return processed_data"
      ]
    },
    {
      "cell_type": "markdown",
      "metadata": {
        "id": "a4ZD-gIg9xge"
      },
      "source": [
        "## Testing"
      ]
    },
    {
      "cell_type": "markdown",
      "metadata": {
        "id": "qqXEZYIq9zVN"
      },
      "source": [
        "Write a unit test for the **calculate_mean** function from the previous exercise."
      ]
    },
    {
      "cell_type": "code",
      "execution_count": 12,
      "metadata": {
        "id": "gkFNyNRu98Hq"
      },
      "outputs": [],
      "source": [
        "def calculate_mean(values):\n",
        "    total_sum = 0\n",
        "    for value in values:\n",
        "        total_sum += value\n",
        "    return total_sum / len(values)"
      ]
    },
    {
      "cell_type": "code",
      "execution_count": 16,
      "metadata": {
        "colab": {
          "base_uri": "https://localhost:8080/"
        },
        "id": "9GXTNdeP92j9",
        "outputId": "9454d6b1-44ce-4e12-88ed-01bf52073d1a"
      },
      "outputs": [
        {
          "name": "stderr",
          "output_type": "stream",
          "text": [
            ".\n",
            "----------------------------------------------------------------------\n",
            "Ran 1 test in 0.002s\n",
            "\n",
            "OK\n"
          ]
        }
      ],
      "source": [
        "import unittest\n",
        "\n",
        "# class TestCalculateMean(unittest.TestCase):\n",
        "    #def test_calculate_mean(self):\n",
        "        #self.assertEqual\n",
        "\n",
        "if __name__ == '__main__':\n",
        "  unittest.main(argv=['first-arg-is-ignored'], verbosity=1, exit=False)"
      ]
    },
    {
      "cell_type": "markdown",
      "metadata": {
        "id": "9GOMoeTi62JX"
      },
      "source": [
        "## Docstring"
      ]
    },
    {
      "cell_type": "markdown",
      "metadata": {
        "id": "f5n47syC646T"
      },
      "source": [
        "Add a docstring to the **calculate_feature_sum** function.\n",
        "\n",
        "```python\n",
        "def calculate_feature_sum(feature_values):\n",
        "    total_sum = 0\n",
        "    for value in feature_values:\n",
        "        total_sum += value\n",
        "    return total_sum\n",
        "```\n",
        "\n"
      ]
    },
    {
      "cell_type": "code",
      "execution_count": null,
      "metadata": {
        "id": "ZDGH5xT97GOW"
      },
      "outputs": [],
      "source": [
        "#Your solution here"
      ]
    },
    {
      "cell_type": "markdown",
      "metadata": {
        "id": "Peyy36CJ6d1l"
      },
      "source": [
        "Add a docstring to the **LinearRegression** class and its methods.\n",
        "\n",
        "```python\n",
        "class LinearRegression:\n",
        "    def __init__(self, learning_rate, num_iterations):\n",
        "        self.learning_rate = learning_rate\n",
        "        self.num_iterations = num_iterations\n",
        "        self.weights = None\n",
        "        self.bias = None\n",
        "\n",
        "    def fit(self, features, targets):\n",
        "        num_samples, num_features = features.shape\n",
        "        self.weights = np.zeros(num_features)\n",
        "        self.bias = 0\n",
        "        for _ in range(self.num_iterations):\n",
        "            predicted_values = np.dot(features, self.weights) + self.bias\n",
        "            weight_gradient = (1 / num_samples) * np.dot(features.T, (predicted_values - targets))\n",
        "            bias_gradient = (1 / num_samples) * np.sum(predicted_values - targets)\n",
        "            self.weights -= self.learning_rate * weight_gradient\n",
        "            self.bias -= self.learning_rate * bias_gradient\n",
        "\n",
        "```\n",
        "\n"
      ]
    },
    {
      "cell_type": "code",
      "execution_count": 6,
      "metadata": {
        "id": "fh3e4COv6fGF"
      },
      "outputs": [],
      "source": [
        "#Your solution here"
      ]
    },
    {
      "cell_type": "markdown",
      "metadata": {
        "id": "XGJdHYUO8Flj"
      },
      "source": [
        "## Keep It Simple"
      ]
    },
    {
      "cell_type": "markdown",
      "metadata": {
        "id": "BAltedlh8L7D"
      },
      "source": [
        "You are given a function **process_data** that performs several tasks: loading data, cleaning data, and calculating statistics. Your task is to refactor this function into separate, well-named methods to improve readability and maintainability.\n",
        "\n",
        "**Original function**"
      ]
    },
    {
      "cell_type": "code",
      "execution_count": null,
      "metadata": {
        "id": "KpxgiH5J8JXX"
      },
      "outputs": [],
      "source": [
        "import numpy as np\n",
        "from typing import List, Tuple\n",
        "\n",
        "def process_data(file_path: str) -> Tuple[float, float]:\n",
        "    # Load data from a file\n",
        "    data = np.loadtxt(file_path, delimiter=',')\n",
        "\n",
        "    # Clean data by removing negative values\n",
        "    cleaned_data = [x for x in data if x >= 0]\n",
        "\n",
        "    # Calculate mean and standard deviation\n",
        "    mean_value = np.mean(cleaned_data)\n",
        "    std_dev_value = np.std(cleaned_data)\n",
        "\n",
        "    return mean_value, std_dev_value"
      ]
    },
    {
      "cell_type": "code",
      "execution_count": null,
      "metadata": {
        "id": "J-3sf_Iq8TxR"
      },
      "outputs": [],
      "source": [
        "#Your solution"
      ]
    },
    {
      "cell_type": "code",
      "execution_count": null,
      "metadata": {
        "id": "rHAZXLtJ8Vwn"
      },
      "outputs": [],
      "source": [
        "#Your solution, also now add docstrings"
      ]
    },
    {
      "cell_type": "code",
      "execution_count": 10,
      "metadata": {
        "id": "d-OU53Xn8aQY"
      },
      "outputs": [],
      "source": [
        "#Create a class containing the methods, and also include docstrings"
      ]
    },
    {
      "cell_type": "markdown",
      "metadata": {
        "id": "sZuIwcdv-k12"
      },
      "source": []
    },
    {
      "cell_type": "markdown",
      "metadata": {
        "id": "SRwl9wMu_j2W"
      },
      "source": [
        "You are given a function **dog_info** that returns the name and breed of a dog and prints a message where the dog barks and presents himself. Your task is to refactor this function into a class with different methods and implement type hints."
      ]
    },
    {
      "cell_type": "code",
      "execution_count": null,
      "metadata": {
        "id": "HgIWleu4_lzK"
      },
      "outputs": [],
      "source": [
        "def dog_info(name, breed) -> None:\n",
        "    \"\"\"\n",
        "    Print information about a dog.\n",
        "\n",
        "    Args:\n",
        "        name (str): The name of the dog.\n",
        "        breed (str): The breed of the dog.\n",
        "    \"\"\"\n",
        "    print(f\"Name: {name}\")\n",
        "    print(f\"Breed: {breed}\")\n",
        "    print(f\"{name} says: Woof! I am a {breed}.\")"
      ]
    },
    {
      "cell_type": "markdown",
      "metadata": {
        "id": "edxtSJ_l_uQt"
      },
      "source": [
        "**Instructions**\n",
        "\n",
        "Create a class Dog with the following methods:\n",
        "\n",
        "        __init__: Initialize the dog with a name and breed\n",
        "        get_name: Return the name of the dog.\n",
        "        get_breed: Return the breed of the dog.\n",
        "        bark: Print a message where the dog barks.\n",
        "        introduce: Print a message where the dog introduces himself.\n",
        "Implement type hints for all methods.\n",
        "Ensure the class is well-documented with docstrings.\n"
      ]
    },
    {
      "cell_type": "code",
      "execution_count": null,
      "metadata": {
        "id": "MDVl8cT5_sf8"
      },
      "outputs": [],
      "source": [
        "'''\n",
        "class Dog:\n",
        "    \"\"\"\n",
        "    A class to represent a dog.\n",
        "\n",
        "    Attributes:\n",
        "\n",
        "    \"\"\"\n",
        "\n",
        "    def __init__(self, name: str, breed: str) -> None:\n",
        "        \"\"\"\n",
        "        Initialize the dog with a name and breed.\n",
        "\n",
        "        Args:\n",
        "\n",
        "        \"\"\"\n",
        "        self.name = name\n",
        "        self.breed = breed\n",
        "\n",
        "    def get_name(self):\n",
        "        return self.name\n",
        "\n",
        "    def get_breed(self):\n",
        "        return self.breed\n",
        "\n",
        "    def bark(self):\n",
        "        print(f\"{self.name} says: Woof!\")\n",
        "\n",
        "    def introduce(self):\n",
        "        \"\"\"\n",
        "        Print a message where the dog introduces himself.\n",
        "        \"\"\"\n",
        "\n",
        "# Example usage\n",
        "if __name__ == \"__main__\":\n",
        "    my_dog = Dog(name=\"Buddy\", breed=\"Golden Retriever\")\n",
        "    my_dog.introduce()\n",
        "\n",
        "''''"
      ]
    }
  ],
  "metadata": {
    "colab": {
      "provenance": []
    },
    "kernelspec": {
      "display_name": "env",
      "language": "python",
      "name": "python3"
    },
    "language_info": {
      "codemirror_mode": {
        "name": "ipython",
        "version": 3
      },
      "file_extension": ".py",
      "mimetype": "text/x-python",
      "name": "python",
      "nbconvert_exporter": "python",
      "pygments_lexer": "ipython3",
      "version": "3.12.9"
    }
  },
  "nbformat": 4,
  "nbformat_minor": 0
}
