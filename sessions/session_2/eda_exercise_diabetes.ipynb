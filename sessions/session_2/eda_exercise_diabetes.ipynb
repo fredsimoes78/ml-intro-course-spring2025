{
  "cells": [
    {
      "cell_type": "markdown",
      "metadata": {
        "id": "_QuRQl-UTG-9"
      },
      "source": [
        "# Introduction to Machine Learning and Data Science: Exploratory Data Analysis (EDA) with Diabetes Dataset\n",
        "\n",
        "This notebook contains exercises for an introductory course on Machine Learning and Data Science, focusing on Exploratory Data Analysis (EDA) using the Pima Indians Diabetes dataset.\n",
        "\n",
        "We will cover essential steps in understanding, cleaning, transforming, and analyzing the data using pandas and matplotlib/seaborn. The exercises are divided into basic, intermediate, and advanced levels.\n",
        "\n",
        "**Estimated Time:** 2 Hours"
      ]
    },
    {
      "cell_type": "markdown",
      "metadata": {
        "id": "H0JHYy_wTG_C"
      },
      "source": [
        "## Setup\n",
        "\n",
        "First, we need to import the necessary libraries and load the dataset. The dataset does not come with headers, so we will define the column names based on common practice for this dataset:\n",
        "\n",
        "1. Pregnancies\n",
        "2. Glucose\n",
        "3. BloodPressure\n",
        "4. SkinThickness\n",
        "5. Insulin\n",
        "6. BMI\n",
        "7. DiabetesPedigreeFunction\n",
        "8. Age\n",
        "9. Outcome (0 for no diabetes, 1 for diabetes)"
      ]
    },
    {
      "cell_type": "code",
      "execution_count": null,
      "metadata": {
        "id": "Vb7c4An1TG_D"
      },
      "outputs": [],
      "source": [
        "import pandas as pd\n",
        "import matplotlib.pyplot as plt\n",
        "import numpy as np\n",
        "import seaborn as sns\n",
        "\n",
        "# URL for the Pima Indians Diabetes dataset\n",
        "url = \"https://raw.githubusercontent.com/jbrownlee/Datasets/master/pima-indians-diabetes.data.csv\"\n",
        "names = ['Pregnancies', 'Glucose', 'BloodPressure', 'SkinThickness', 'Insulin', 'BMI', 'DiabetesPedigreeFunction', 'Age', 'Outcome']\n",
        "\n",
        "# Load the dataset\n",
        "diabetes_df = pd.read_csv(url, names=names)\n",
        "\n",
        "# Display the first few rows to confirm loading\n",
        "print(diabetes_df.head())"
      ]
    },
    {
      "cell_type": "markdown",
      "metadata": {
        "id": "VbdtigokTG_E"
      },
      "source": [
        "## Basic Exercises (Approx. 45-60 minutes)\n",
        "\n",
        "These exercises focus on fundamental data exploration and manipulation using pandas and basic visualization."
      ]
    },
    {
      "cell_type": "markdown",
      "metadata": {
        "id": "scTDJg-5TG_F"
      },
      "source": [
        "### Exercise 1: Initial Data Inspection\n",
        "\n",
        "1. Display the last 7 rows of the `diabetes_df` DataFrame.\n",
        "2. Get a concise summary of the DataFrame using `.info()`. How many entries are there? What are the data types?\n",
        "3. Generate a statistical summary of the numerical attributes using `.describe()`. Pay attention to the minimum values for columns like `Glucose`, `BloodPressure`, `SkinThickness`, `Insulin`, and `BMI`. Do you notice anything unusual?\n",
        "4. Examine the unique values and their counts for the `Outcome` column using `.value_counts()`. Is the dataset balanced in terms of the outcome variable?"
      ]
    },
    {
      "cell_type": "code",
      "execution_count": null,
      "metadata": {
        "id": "lAycsE1dTG_F"
      },
      "outputs": [],
      "source": [
        "# Your code for Exercise 1.1\n"
      ]
    },
    {
      "cell_type": "code",
      "execution_count": null,
      "metadata": {
        "id": "bKaQRcoWTG_G"
      },
      "outputs": [],
      "source": [
        "# Your code for Exercise 1.2\n"
      ]
    },
    {
      "cell_type": "code",
      "execution_count": null,
      "metadata": {
        "id": "w6Hpw8feTG_G"
      },
      "outputs": [],
      "source": [
        "# Your code for Exercise 1.3\n"
      ]
    },
    {
      "cell_type": "code",
      "execution_count": null,
      "metadata": {
        "id": "47f1vOPYTG_G"
      },
      "outputs": [],
      "source": [
        "# Your code for Exercise 1.4\n"
      ]
    },
    {
      "cell_type": "markdown",
      "metadata": {
        "id": "32MZ7jyzTG_I"
      },
      "source": [
        "### Exercise 2: Basic Data Filtering and Selection\n",
        "\n",
        "1. Select and display only the `Age` and `BMI` columns for the first 10 patients.\n",
        "2. Filter the DataFrame to show only the patients who tested positive for diabetes (`Outcome` is 1).\n",
        "3. Calculate the average `Glucose` level for patients who tested negative for diabetes (`Outcome` is 0)."
      ]
    },
    {
      "cell_type": "code",
      "execution_count": null,
      "metadata": {
        "id": "f0qGJODDTG_I"
      },
      "outputs": [],
      "source": [
        "# Your code for Exercise 2.1\n"
      ]
    },
    {
      "cell_type": "code",
      "execution_count": null,
      "metadata": {
        "id": "WwDUE_NeTG_J"
      },
      "outputs": [],
      "source": [
        "# Your code for Exercise 2.2\n"
      ]
    },
    {
      "cell_type": "code",
      "execution_count": null,
      "metadata": {
        "id": "eagf0-yPTG_J"
      },
      "outputs": [],
      "source": [
        "# Your code for Exercise 2.3\n"
      ]
    },
    {
      "cell_type": "markdown",
      "metadata": {
        "id": "h8-9Mh4UTG_J"
      },
      "source": [
        "### Exercise 3: Simple Visualization\n",
        "\n",
        "1. Create a histogram for the `Age` column to visualize the age distribution of patients.\n",
        "2. Generate a histogram for the `BMI` column.\n",
        "3. Use seaborn's `countplot` to visualize the distribution of the `Outcome` variable (number of diabetic vs non-diabetic patients)."
      ]
    },
    {
      "cell_type": "code",
      "execution_count": null,
      "metadata": {
        "id": "eU5DPH6ATG_J"
      },
      "outputs": [],
      "source": [
        "# Your code for Exercise 3.1\n"
      ]
    },
    {
      "cell_type": "code",
      "execution_count": null,
      "metadata": {
        "id": "14lfpleQTG_K"
      },
      "outputs": [],
      "source": [
        "# Your code for Exercise 3.2\n"
      ]
    },
    {
      "cell_type": "code",
      "execution_count": null,
      "metadata": {
        "id": "GP-qXgMsTG_K"
      },
      "outputs": [],
      "source": [
        "# Your code for Exercise 3.3\n"
      ]
    },
    {
      "cell_type": "markdown",
      "metadata": {
        "id": "RJej8ymWTG_K"
      },
      "source": [
        "## Intermediate Exercises (Approx. 45-60 minutes)\n",
        "\n",
        "These exercises delve into data cleaning, manipulation, and basic feature engineering."
      ]
    },
    {
      "cell_type": "markdown",
      "metadata": {
        "id": "G2RS_4l8TG_L"
      },
      "source": [
        "### Exercise 4: Handling Missing Data (Implicit Missing Values)\n",
        "\n",
        "As observed in Exercise 1.3, some columns have a minimum value of 0, which might represent missing data (e.g., a blood pressure of 0 is biologically impossible).\n",
        "\n",
        "1. For the `Glucose`, `BloodPressure`, `SkinThickness`, `Insulin`, and `BMI` columns, replace the 0 values with `NaN` (Not a Number) to explicitly mark them as missing.\n",
        "2. Verify the number of missing values in these columns after the replacement using `.info()` or `.isnull().sum()`. Which column has the most missing values now?\n",
        "3. Choose an imputation strategy for the missing numerical values (e.g., replace with the mean or median of the respective column). Justify your choice.\n",
        "4. Apply the chosen imputation strategy to fill the `NaN` values in the affected columns. Verify that there are no more missing values in these columns."
      ]
    },
    {
      "cell_type": "code",
      "execution_count": null,
      "metadata": {
        "id": "0UTeP68FTG_L"
      },
      "outputs": [],
      "source": [
        "# Your code for Exercise 4.1\n"
      ]
    },
    {
      "cell_type": "code",
      "execution_count": null,
      "metadata": {
        "id": "SN4gr4NiTG_L"
      },
      "outputs": [],
      "source": [
        "# Your code for Exercise 4.2\n"
      ]
    },
    {
      "cell_type": "code",
      "execution_count": null,
      "metadata": {
        "id": "aB6G_T4WTG_L"
      },
      "outputs": [],
      "source": [
        "# Your code for Exercise 4.3 (Add comments for justification)\n"
      ]
    },
    {
      "cell_type": "code",
      "execution_count": null,
      "metadata": {
        "id": "UDrWZq_2TG_L"
      },
      "outputs": [],
      "source": [
        "# Your code for Exercise 4.4\n"
      ]
    },
    {
      "cell_type": "markdown",
      "metadata": {
        "id": "BaeLow4PTG_M"
      },
      "source": [
        "### Exercise 5: Creating New Features (Feature Engineering)\n",
        "\n",
        "Create a new categorical feature based on the `Age` column.\n",
        "\n",
        "1. Define age bins (e.g., '0-20', '21-30', '31-40', '41-50', '51+').\n",
        "2. Create a new column called `AgeGroup` by categorizing the `Age` values into these bins.\n",
        "3. Display the value counts for the new `AgeGroup` column."
      ]
    },
    {
      "cell_type": "code",
      "execution_count": null,
      "metadata": {
        "id": "VYsNIvePTG_M"
      },
      "outputs": [],
      "source": [
        "# Your code for Exercise 5.1, 5.2, and 5.3\n"
      ]
    },
    {
      "cell_type": "markdown",
      "metadata": {
        "id": "5uA7HRX8TG_M"
      },
      "source": [
        "### Exercise 6: Exploring Correlations\n",
        "\n",
        "1. Compute the correlation matrix for the numerical features in the DataFrame using `.corr()`.\n",
        "2. Display the correlations of all numerical features with the `Outcome` variable, sorted in descending order. Which features have the strongest positive and negative correlations with diabetes outcome?\n",
        "3. Use seaborn's `heatmap` to visualize the correlation matrix. Interpret the relationships between different features."
      ]
    },
    {
      "cell_type": "code",
      "execution_count": null,
      "metadata": {
        "id": "AY0XNIXLTG_M"
      },
      "outputs": [],
      "source": [
        "# Your code for Exercise 6.1\n"
      ]
    },
    {
      "cell_type": "code",
      "execution_count": null,
      "metadata": {
        "id": "umaz-4btTG_M"
      },
      "outputs": [],
      "source": [
        "# Your code for Exercise 6.2\n"
      ]
    },
    {
      "cell_type": "code",
      "execution_count": null,
      "metadata": {
        "id": "anTBwos8TG_N"
      },
      "outputs": [],
      "source": [
        "# Your code for Exercise 6.3\n"
      ]
    },
    {
      "cell_type": "markdown",
      "metadata": {
        "id": "TOrMuGzPTG_N"
      },
      "source": [
        "## Advanced Exercises (Approx. 30-45 minutes, potentially carrying over into self-study)\n",
        "\n",
        "These exercises challenge students with more complex data transformations and analysis."
      ]
    },
    {
      "cell_type": "markdown",
      "metadata": {
        "id": "Wt-Y7ipITG_N"
      },
      "source": [
        "### Exercise 7: Analyzing Relationships with Outcome\n",
        "\n",
        "Use visualizations to explore the relationship between different features and the `Outcome` (diabetes positive or negative).\n",
        "\n",
        "1. Create a violin plot using seaborn to visualize the distribution of `Age` for both `Outcome` groups (0 and 1).\n",
        "2. Create a scatter plot of `Glucose` vs `BMI`, coloring the points based on the `Outcome` variable.\n",
        "3. Use seaborn's `boxplot` to compare the distribution of `BloodPressure` across different `AgeGroup` categories (created in Exercise 5)."
      ]
    },
    {
      "cell_type": "code",
      "execution_count": null,
      "metadata": {
        "id": "bb3Fl0_ATG_N"
      },
      "outputs": [],
      "source": [
        "# Your code for Exercise 7.1\n"
      ]
    },
    {
      "cell_type": "code",
      "execution_count": null,
      "metadata": {
        "id": "9oUbucMtTG_N"
      },
      "outputs": [],
      "source": [
        "# Your code for Exercise 7.2\n"
      ]
    },
    {
      "cell_type": "code",
      "execution_count": null,
      "metadata": {
        "id": "hkveS6m0TG_O"
      },
      "outputs": [],
      "source": [
        "# Your code for Exercise 7.3\n"
      ]
    },
    {
      "cell_type": "markdown",
      "metadata": {
        "id": "0BfK4Iw4TG_O"
      },
      "source": [
        "### Exercise 8: Outlier Identification (Visualization Based)\n",
        "\n",
        "Use box plots to visually identify potential outliers in some of the key numerical features.\n",
        "\n",
        "1. Create box plots for `Glucose`, `BloodPressure`, `Insulin`, and `BMI`.\n",
        "2. Discuss what outliers might represent in this medical dataset and how they could potentially affect machine learning models."
      ]
    },
    {
      "cell_type": "code",
      "execution_count": null,
      "metadata": {
        "id": "lZH6SqzSTG_O"
      },
      "outputs": [],
      "source": [
        "# Your code for Exercise 8.1\n"
      ]
    },
    {
      "cell_type": "markdown",
      "metadata": {
        "id": "jBy-Ol6WTG_O"
      },
      "source": [
        "### Exercise 9: (Optional Stretch) Further Feature Engineering or Analysis\n",
        "\n",
        "Choose one of the following (or come up with your own idea):\n",
        "\n",
        "1. Create a new feature that combines `BMI` and `Age` based on common health knowledge (e.g., BMI categories for different age groups).\n",
        "2. Investigate the distribution of `DiabetesPedigreeFunction` and its relationship with the `Outcome`."
      ]
    },
    {
      "cell_type": "code",
      "execution_count": null,
      "metadata": {
        "id": "BocviGM1TG_P"
      },
      "outputs": [],
      "source": [
        "# Your code or notes for Exercise 9\n"
      ]
    }
  ],
  "metadata": {
    "colab": {
      "provenance": []
    },
    "kernelspec": {
      "display_name": "env",
      "language": "python",
      "name": "python3"
    },
    "language_info": {
      "codemirror_mode": {
        "name": "ipython",
        "version": 3
      },
      "file_extension": ".py",
      "mimetype": "text/x-python",
      "name": "python",
      "nbconvert_exporter": "python",
      "pygments_lexer": "ipython3",
      "version": "3.12.9"
    }
  },
  "nbformat": 4,
  "nbformat_minor": 0
}
